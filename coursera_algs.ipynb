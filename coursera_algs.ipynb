{
 "cells": [
  {
   "cell_type": "code",
   "execution_count": 8,
   "metadata": {},
   "outputs": [
    {
     "name": "stdout",
     "output_type": "stream",
     "text": [
      "123543\n"
     ]
    },
    {
     "data": {
      "text/plain": [
       "12357"
      ]
     },
     "execution_count": 8,
     "metadata": {},
     "output_type": "execute_result"
    }
   ],
   "source": [
    "#python 2\n",
    "x=int(raw_input(\"\"))\n",
    "def changemoney(x):\n",
    "    count=0\n",
    "    while x>0:\n",
    "        if x-10>=0:\n",
    "            x+=-10\n",
    "            count+=1\n",
    "        elif x-5>=0:\n",
    "            x+=-5\n",
    "            count+=1\n",
    "        elif x-1>=0:\n",
    "            x+=-1\n",
    "            count+=1\n",
    "    return count\n",
    "changemoney(x)"
   ]
  },
  {
   "cell_type": "code",
   "execution_count": 8,
   "metadata": {},
   "outputs": [
    {
     "name": "stdout",
     "output_type": "stream",
     "text": [
      "1 10\n",
      "500 30\n"
     ]
    },
    {
     "data": {
      "text/plain": [
       "166.66666666666669"
      ]
     },
     "execution_count": 8,
     "metadata": {},
     "output_type": "execute_result"
    }
   ],
   "source": [
    "#python 2\n",
    "bag=map(int,raw_input(\"\").split())\n",
    "n=int(bag[0])\n",
    "items=list()\n",
    "for i in range(n):\n",
    "    items.append(map(int,raw_input(\"\").split()))\n",
    "def baginput(bag,items):\n",
    "    result=0\n",
    "    eff=list()\n",
    "    for i in range(n):\n",
    "        eff.append(float(items[i][0])/float(items[i][1]))\n",
    "    while bag[1]>0:\n",
    "        c=eff.index(max(eff))\n",
    "        if bag[1]<=items[c][1]:\n",
    "            result+=bag[1]*eff[c]\n",
    "            bag[1]=0\n",
    "        else:\n",
    "            result+=items[c][0]\n",
    "            bag[1]+=-items[c][1]\n",
    "            del eff[c]\n",
    "    return result\n",
    "baginput(bag,items)"
   ]
  },
  {
   "cell_type": "code",
   "execution_count": 20,
   "metadata": {},
   "outputs": [
    {
     "name": "stdout",
     "output_type": "stream",
     "text": [
      "3\n",
      "1 3 -5\n",
      "-2 4 1\n"
     ]
    },
    {
     "data": {
      "text/plain": [
       "23"
      ]
     },
     "execution_count": 20,
     "metadata": {},
     "output_type": "execute_result"
    }
   ],
   "source": [
    "#python 2\n",
    "n=int(raw_input(\"\"))\n",
    "a=map(int,raw_input(\"\").split())\n",
    "b=map(int,raw_input(\"\").split())\n",
    "def max_rev(n,a,b):\n",
    "    result=0\n",
    "    while n>0:\n",
    "        ai=a.index(max(a))\n",
    "        bi=b.index(max(b))\n",
    "        result+=a[ai]*b[bi]\n",
    "        del a[ai]\n",
    "        del b[bi]\n",
    "        n+=-1\n",
    "    return result\n",
    "max_rev(n,a,b)"
   ]
  },
  {
   "cell_type": "code",
   "execution_count": 25,
   "metadata": {},
   "outputs": [
    {
     "name": "stdout",
     "output_type": "stream",
     "text": [
      "4\n",
      "4 7\n",
      "1 3\n",
      "2 5\n",
      "5 6\n"
     ]
    },
    {
     "data": {
      "text/plain": [
       "(2, [3, 6])"
      ]
     },
     "execution_count": 25,
     "metadata": {},
     "output_type": "execute_result"
    }
   ],
   "source": [
    "#pyton 2\n",
    "n=int(raw_input(\"\"))\n",
    "begin=list()\n",
    "end=list()\n",
    "for i in range(n):\n",
    "    c=map(int,raw_input(\"\").split())\n",
    "    begin.append(c[0])\n",
    "    end.append(c[1])\n",
    "def optimal_points(n,begin,end):\n",
    "    answer=list()\n",
    "    count=0\n",
    "    while n>0:\n",
    "        minimum=min(end)\n",
    "        answer.append(minimum)\n",
    "        count+=1\n",
    "        for i in reversed(range(n)):\n",
    "            if begin[i]<=minimum:\n",
    "                del begin[i]\n",
    "                del end[i]\n",
    "                n+=-1\n",
    "    return (count,answer)\n",
    "optimal_points(n,begin,end)"
   ]
  },
  {
   "cell_type": "code",
   "execution_count": 30,
   "metadata": {},
   "outputs": [
    {
     "name": "stdout",
     "output_type": "stream",
     "text": [
      "6\n"
     ]
    },
    {
     "data": {
      "text/plain": [
       "[1, 2, 3]"
      ]
     },
     "execution_count": 30,
     "metadata": {},
     "output_type": "execute_result"
    }
   ],
   "source": [
    "#pyton 2\n",
    "n=int(raw_input(\"\"))\n",
    "def prizes(n):\n",
    "    answer=list()\n",
    "    i=1\n",
    "    while n>0:\n",
    "        if n-i>=i+1:\n",
    "            n+=-i\n",
    "            answer.append(i)\n",
    "            i+=1\n",
    "        else:\n",
    "            answer.append(n)\n",
    "            n=0\n",
    "    return answer\n",
    "prizes(n)"
   ]
  },
  {
   "cell_type": "code",
   "execution_count": 8,
   "metadata": {},
   "outputs": [
    {
     "name": "stdout",
     "output_type": "stream",
     "text": [
      "5 1 5 8 12 13\n",
      "5 8 1 23 1 11\n",
      "[1, 2, 0, -1, 0, -1]\n"
     ]
    }
   ],
   "source": [
    "#bin search\n",
    "a=map(int,raw_input(\"\").split())\n",
    "b=map(int,raw_input(\"\").split())\n",
    "n=a[0]\n",
    "del a[0]\n",
    "def binary_search(a, x, lo=0, hi=None):\n",
    "    if hi is None:\n",
    "        hi = len(a)\n",
    "    while lo < hi:\n",
    "        mid = (lo+hi)//2\n",
    "        midval = a[mid]\n",
    "        if midval < x:\n",
    "            lo = mid+1\n",
    "        elif midval > x: \n",
    "            hi = mid\n",
    "        else:\n",
    "            return mid\n",
    "    return -1\n",
    "answer=list()\n",
    "for i in b:\n",
    "    answer.append(binary_search(a, i))\n",
    "print answer"
   ]
  },
  {
   "cell_type": "code",
   "execution_count": 15,
   "metadata": {},
   "outputs": [
    {
     "name": "stdout",
     "output_type": "stream",
     "text": [
      "5 \n",
      "2 3 9 2 2\n"
     ]
    },
    {
     "data": {
      "text/plain": [
       "2"
      ]
     },
     "execution_count": 15,
     "metadata": {},
     "output_type": "execute_result"
    }
   ],
   "source": [
    "# majority element\n",
    "n=int(raw_input(\"\"))\n",
    "a=map(int,raw_input(\"\").split())\n",
    "def get_majority_element(a, left, right):\n",
    "    if left == right:\n",
    "        return -1\n",
    "    if left + 1 == right:\n",
    "        return a[left]\n",
    "\n",
    "    left_m = get_majority_element(a, left, (left + right - 1)//2 + 1)\n",
    "    right_m = get_majority_element(a, (left + right - 1)//2 + 1, right)\n",
    "    left_count = 0\n",
    "    for i in range(left, right):\n",
    "        if a[i] == left_m:\n",
    "            left_count += 1\n",
    "    if left_count > (right-left)//2:\n",
    "        return left_m\n",
    "\n",
    "    right_count = 0\n",
    "    for i in range(left, right):\n",
    "        if a[i] == right_m:\n",
    "            right_count += 1\n",
    "    if right_count > (right-left)//2:\n",
    "        return right_m\n",
    "\n",
    "    return -1\n",
    "get_majority_element(a,0, len(a))"
   ]
  },
  {
   "cell_type": "code",
   "execution_count": 35,
   "metadata": {},
   "outputs": [
    {
     "name": "stdout",
     "output_type": "stream",
     "text": [
      "5\n",
      "2 3 9 2 2\n"
     ]
    },
    {
     "data": {
      "text/plain": [
       "[2, 2, 2, 3, 9]"
      ]
     },
     "execution_count": 35,
     "metadata": {},
     "output_type": "execute_result"
    }
   ],
   "source": [
    "#quick sort improvment\n",
    "n=int(raw_input(\"\"))\n",
    "a=map(int,raw_input(\"\").split())\n",
    "def quick_sort(a):\n",
    "    d={}\n",
    "    for i in a:\n",
    "        if i in d:\n",
    "            d[i]+=1\n",
    "        else:\n",
    "            d[i]=1\n",
    "    answer=list()\n",
    "    while len(d)>0:\n",
    "        k=min(d)\n",
    "        for j in range(d[k]):\n",
    "            answer.append(k)\n",
    "        del d[k]\n",
    "    return answer\n",
    "quick_sort(a)    "
   ]
  },
  {
   "cell_type": "code",
   "execution_count": 42,
   "metadata": {},
   "outputs": [
    {
     "name": "stdout",
     "output_type": "stream",
     "text": [
      "96234\n"
     ]
    }
   ],
   "source": [
    "-"
   ]
  },
  {
   "cell_type": "code",
   "execution_count": 1,
   "metadata": {},
   "outputs": [
    {
     "name": "stdout",
     "output_type": "stream",
     "text": [
      "10 3\n",
      "1 4 8\n"
     ]
    },
    {
     "data": {
      "text/plain": [
       "9"
      ]
     },
     "execution_count": 1,
     "metadata": {},
     "output_type": "execute_result"
    }
   ],
   "source": [
    "def optimal_weight(W, w):\n",
    "    c = [0] * (W+1)\n",
    "    for i in range(len(w)):\n",
    "        for j in range(W, w[i]-1, -1):\n",
    "            c[j] = max(c[j], c[j - w[i]] + w[i])\n",
    "    return c[W]\n",
    "a=map(int,raw_input(\"\").split())\n",
    "W=a[0]\n",
    "b=map(int,raw_input(\"\").split())\n",
    "optimal_weight(W,b)"
   ]
  },
  {
   "cell_type": "code",
   "execution_count": 62,
   "metadata": {},
   "outputs": [
    {
     "name": "stdout",
     "output_type": "stream",
     "text": [
      "foo(bar[i);\n"
     ]
    },
    {
     "data": {
      "text/plain": [
       "10"
      ]
     },
     "execution_count": 62,
     "metadata": {},
     "output_type": "execute_result"
    }
   ],
   "source": [
    "s=raw_input(\"\")\n",
    "def success(s):\n",
    "    d=[]\n",
    "    ti=[]\n",
    "    for i in range(len(s)):\n",
    "        if s[i] in ['(','[','{']:\n",
    "            d.append(s[i])\n",
    "            ti.append(i)\n",
    "        if s[i]==')':\n",
    "            if len(d)==0:\n",
    "                return i+1\n",
    "            else:\n",
    "                dTop=d.pop()\n",
    "                if dTop!='(':\n",
    "                    return i+1\n",
    "                else:\n",
    "                    ti.pop()\n",
    "        if s[i]==']':\n",
    "            if len(d)==0:\n",
    "                return i+1\n",
    "            else:\n",
    "                dTop=d.pop()\n",
    "                if dTop!='[':\n",
    "                    return i+1\n",
    "                else:\n",
    "                    ti.pop()\n",
    "        if s[i]=='}':\n",
    "            if len(d)==0:\n",
    "                return i+1\n",
    "            else:\n",
    "                dTop=d.pop()\n",
    "                if dTop!='{':\n",
    "                    return i+1\n",
    "                else:\n",
    "                    ti.pop()\n",
    "    if len(d)==0:\n",
    "        return 'Success'\n",
    "    else:\n",
    "        return ti[0]+1\n",
    "success(s)\n",
    "            "
   ]
  },
  {
   "cell_type": "code",
   "execution_count": 91,
   "metadata": {},
   "outputs": [
    {
     "name": "stdout",
     "output_type": "stream",
     "text": [
      "5\n",
      "-1 0 4 0 3\n",
      "4\n"
     ]
    }
   ],
   "source": [
    "n=int(raw_input(\"\"))\n",
    "a=map(int,raw_input(\"\").split())\n",
    "def height(a,d=[-1]):\n",
    "    if len(d)==0:\n",
    "        return 0\n",
    "    else:\n",
    "        z=list()\n",
    "        for i in range(len(a)):\n",
    "            if a[i] in d:\n",
    "                z.append(i)\n",
    "    return height(a,z)+1\n",
    "print(height(a)-1)"
   ]
  },
  {
   "cell_type": "code",
   "execution_count": 26,
   "metadata": {},
   "outputs": [
    {
     "name": "stdout",
     "output_type": "stream",
     "text": [
      "5\n",
      "1 2 3 4 5\n"
     ]
    },
    {
     "data": {
      "text/plain": [
       "0"
      ]
     },
     "execution_count": 26,
     "metadata": {},
     "output_type": "execute_result"
    }
   ],
   "source": [
    "n=int(raw_input(\"\"))\n",
    "a=map(int,raw_input(\"\").split())\n",
    "count=0\n",
    "for i in range(1,n)[::-1]:\n",
    "    node=i\n",
    "    parent=(i-1)/2\n",
    "    while a[node]<a[parent]:\n",
    "        z=a[parent]\n",
    "        a[parent]=a[node]\n",
    "        a[node]=z\n",
    "        print(str(parent)+\" \"+str(node))\n",
    "        count+=1\n",
    "        node=parent\n",
    "        parent=node/2\n",
    "count"
   ]
  },
  {
   "cell_type": "code",
   "execution_count": 10,
   "metadata": {
    "scrolled": true
   },
   "outputs": [
    {
     "name": "stdout",
     "output_type": "stream",
     "text": [
      "4 20\n",
      "1 1 1 1 1 1 1 1 1 1 1 1 1 1 1 1 1 1 1 1\n",
      "0 0\n",
      "1 0\n",
      "2 0\n",
      "3 0\n",
      "0 1\n",
      "1 1\n",
      "2 1\n",
      "3 1\n",
      "0 2\n",
      "1 2\n",
      "2 2\n",
      "3 2\n",
      "0 3\n",
      "1 3\n",
      "2 3\n",
      "3 3\n",
      "0 4\n",
      "1 4\n",
      "2 4\n",
      "3 4\n"
     ]
    }
   ],
   "source": [
    "a=map(int,raw_input(\"\").split())\n",
    "n=a[1]\n",
    "m=a[0]\n",
    "b=map(int,raw_input(\"\").split())\n",
    "d=list()\n",
    "answer=list()\n",
    "for i in range(m):\n",
    "    d.append(0)\n",
    "for i in b:\n",
    "    t=d.index(min(d))\n",
    "    p=d[t]\n",
    "    print(str(t)+\" \"+str(p))\n",
    "    d[t]+=i\n"
   ]
  },
  {
   "cell_type": "code",
   "execution_count": 10,
   "metadata": {},
   "outputs": [
    {
     "name": "stdout",
     "output_type": "stream",
     "text": [
      "6 4\n",
      "10 0 5 0 3 3\n",
      "6 6\n",
      "6 5\n",
      "5 4\n",
      "4 3\n",
      "10\n",
      "10\n",
      "10\n",
      "11\n"
     ]
    }
   ],
   "source": [
    "a=map(int,raw_input(\"\").split())\n",
    "size=map(int,raw_input(\"\").split())\n",
    "n=a[0]\n",
    "m=a[1]\n",
    "merges=list()\n",
    "for i in range(m):\n",
    "    merges.append(map(int,raw_input(\"\").split()))\n",
    "links=list()\n",
    "for i in range(n):\n",
    "    links.append(i)\n",
    "max_len=max(size)\n",
    "for i in merges:\n",
    "    if i[0]!=i[1]:\n",
    "        if size[i[0]-1]==0:\n",
    "            z0=i[0]-1\n",
    "            while z0!=links[z0]:\n",
    "                z0=links[z0]\n",
    "            sz0=size[z0]\n",
    "        else:\n",
    "            sz0=size[i[0]-1]\n",
    "            z0=i[0]-1\n",
    "        if size[i[1]-1]==0:\n",
    "            z1=i[1]-1\n",
    "            while z1!=links[z1]:\n",
    "                z1=links[z1]\n",
    "            sz1=size[z1]\n",
    "        else:\n",
    "            sz1=size[i[1]-1]\n",
    "            z1=i[1]-1\n",
    "        size[z0]=sz0+sz1\n",
    "        size[z1]=0\n",
    "        links[z1]=z0\n",
    "        if max_len<size[z0]:\n",
    "            max_len=size[z0]\n",
    "    print max_len"
   ]
  }
 ],
 "metadata": {
  "kernelspec": {
   "display_name": "Python 2",
   "language": "python",
   "name": "python2"
  },
  "language_info": {
   "codemirror_mode": {
    "name": "ipython",
    "version": 2
   },
   "file_extension": ".py",
   "mimetype": "text/x-python",
   "name": "python",
   "nbconvert_exporter": "python",
   "pygments_lexer": "ipython2",
   "version": "2.7.13"
  }
 },
 "nbformat": 4,
 "nbformat_minor": 2
}
