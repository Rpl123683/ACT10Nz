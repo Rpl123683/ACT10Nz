{
 "cells": [
  {
   "cell_type": "code",
   "execution_count": 10,
   "metadata": {},
   "outputs": [],
   "source": [
    "%matplotlib inline\n",
    "from SALib.analyze import sobol as sobol\n",
    "from SALib.analyze import morris as morris_analyzer\n",
    "\n",
    "from SALib.sample import saltelli as saltelli_sampler\n",
    "from SALib.sample import morris as morris_sampler\n",
    "\n",
    "from scipy.optimize import minimize\n",
    "\n",
    "import numpy as np\n",
    "import pandas as pd\n",
    "from pandas import date_range,Series,DataFrame,read_csv, qcut\n",
    "\n",
    "import matplotlib.pyplot as plt\n",
    "import sklearn\n",
    "np.set_printoptions(suppress=True)\n",
    "from sklearn.kernel_ridge import KernelRidge\n",
    "from sklearn.svm import SVR\n",
    "from sklearn.gaussian_process import GaussianProcessRegressor\n",
    "from sklearn.model_selection import cross_val_score\n",
    "from sklearn.gaussian_process.kernels import *\n",
    "from sklearn.model_selection import GridSearchCV\n",
    "\n"
   ]
  },
  {
   "cell_type": "markdown",
   "metadata": {},
   "source": [
    "## Exercise 1: surrogate modelling"
   ]
  },
  {
   "cell_type": "markdown",
   "metadata": {},
   "source": [
    "The actual dependency is not given, only a data set of inputs and outputs.\n",
    "To perform sensitivity analysis and optimization we are going to use a regression model.\n",
    "\n",
    "Your tasks:\n",
    "\n",
    "* Load data set.\n",
    "* Build several regression models using different techniques: Gaussian Process Regression, Kernel Ridge regression, SVM.\n",
    "* Perform k-fold cross-validation for each model and choose the best.\n",
    "* The most accurate model will be used in all subsequent excersices."
   ]
  },
  {
   "cell_type": "markdown",
   "metadata": {
    "collapsed": true
   },
   "source": [
    "## Для начала загрузим данные и определим модели которые будем рассматривать"
   ]
  },
  {
   "cell_type": "code",
   "execution_count": 12,
   "metadata": {
    "scrolled": true
   },
   "outputs": [],
   "source": [
    "#Load data set\n",
    "data=pd.read_csv('C://Users/Rpl/Downloads/doe_100.csv', sep=',')\n",
    "\n",
    "regressors = [\"r1\",\"t1\",\"r2\",\"r3\",\"t3\",\"r4\"]\n",
    "output_variables = [\"mass\",\"smax\",\"u2\"]\n",
    "X=data[regressors].as_matrix()\n",
    "#рассматриваемые модели\n",
    "models = []\n",
    "svr = [{'kernel': ['rbf'], 'gamma': [1e-3, 1e-4],\n",
    "                     'C': [1, 10, 100, 1000]},\n",
    "                    {'kernel': ['linear'], 'C': [1, 10, 100, 1000]}]\n",
    "\n",
    "kernel_ridge = [{'kernel': ['rbf'], 'gamma': [1e-3, 1e-4],\n",
    "                     \"alpha\": [1e0, 0.1, 1e-2, 1e-3]},\n",
    "                                 {'kernel': ['chi2'], 'gamma': [1e-3, 1e-4],\n",
    "                     \"alpha\": [1e0, 0.1, 1e-2, 1e-3]},\n",
    "                                 {'kernel': ['cosine'], \n",
    "                     \"alpha\": [1e0, 0.1, 1e-2, 1e-3]},\n",
    "                    {'kernel': ['linear'], \"alpha\": [1e0, 0.1, 1e-2, 1e-3]}]\n",
    "\n",
    "\n",
    "gauss = [\n",
    "                         {'alpha': [1e0, 1e-1, 1e-2, 1e-3], \n",
    "                     'kernel': [ 1.0 * RationalQuadratic(length_scale=b, alpha=a) for a in np.linspace(0.1, 10, num=30) for b in np.linspace(0.1, 5, num=10)]},\n",
    "                          {'alpha': [1e0, 1e-1, 1e-2, 1e-3], \n",
    "                     'kernel': [ ConstantKernel(b, (0.01, 10.0))  * RBF(a) for a in np.linspace(0.1, 10, num=30) for b in np.linspace(0.1, 5, num=10)]},\n",
    "                         {'alpha': [1e0, 1e-1, 1e-2, 1e-3], \n",
    "                     'kernel': [ ConstantKernel(b, (0.01, 10.0)) * (DotProduct(sigma_0=a, sigma_0_bounds=(0.1, 10.0)) ** 2) for a in np.linspace(0.1, 10, num=30) for b in np.linspace(0.1, 5, num=10)]\n",
    "                         }]\n"
   ]
  },
  {
   "cell_type": "markdown",
   "metadata": {
    "collapsed": true
   },
   "source": [
    "## Теперь для каждой зависимой переменной (mass,smax,u2) найдем жадным поиском наилучшие параметры модели.После этого выберем модель с наибольшим средним коэф. детермизации полученным после кросс валидации. "
   ]
  },
  {
   "cell_type": "code",
   "execution_count": 14,
   "metadata": {},
   "outputs": [
    {
     "name": "stdout",
     "output_type": "stream",
     "text": [
      "SVR MODEL\n",
      "Accuracy of model:  0.99711426105\n",
      "Parameters of model\n",
      "{'C': 1000, 'gamma': 0.0001, 'kernel': 'rbf'}\n",
      "KERNEL_RIDGE MODEL\n",
      "Accuracy of model:  0.99793677911\n",
      "Parameters of model\n",
      "{'alpha': 0.001, 'gamma': 0.0001, 'kernel': 'rbf'}\n",
      "GAUSS MODEL\n",
      "Accuracy of model:  0.999957258894\n",
      "Parameters of model\n",
      "{'alpha': 0.001, 'kernel': 1**2 * RationalQuadratic(alpha=4.2, length_scale=3.91)}\n"
     ]
    },
    {
     "name": "stderr",
     "output_type": "stream",
     "text": [
      "C:\\Anaconda3\\lib\\site-packages\\sklearn\\gaussian_process\\gpr.py:427: UserWarning: fmin_l_bfgs_b terminated abnormally with the  state: {'grad': array([-0.00861745, -0.00014657,  0.03856004]), 'task': b'ABNORMAL_TERMINATION_IN_LNSRCH', 'funcalls': 72, 'warnflag': 2, 'nit': 20}\n",
      "  \" state: %s\" % convergence_dict)\n"
     ]
    }
   ],
   "source": [
    "y= data[\"mass\"].as_matrix()\n",
    "\n",
    "reg = GridSearchCV(SVR(), svr, n_jobs=-1)\n",
    "reg.fit(X, y)\n",
    "print(\"SVR MODEL\")\n",
    "print(\"Accuracy of model: \",reg.best_score_)\n",
    "print(\"Parameters of model\")\n",
    "print(reg.best_params_)\n",
    "\n",
    "reg = GridSearchCV(KernelRidge(), kernel_ridge, n_jobs=-1)\n",
    "reg.fit(X, y)\n",
    "print(\"KERNEL_RIDGE MODEL\")\n",
    "print(\"Accuracy of model: \",reg.best_score_)\n",
    "print(\"Parameters of model\")\n",
    "print(reg.best_params_)\n",
    "\n",
    "reg = GridSearchCV(GaussianProcessRegressor(), gauss, n_jobs=-1)\n",
    "reg.fit(X, y)\n",
    "print(\"GAUSS MODEL\")\n",
    "print(\"Accuracy of model: \",reg.best_score_)\n",
    "print(\"Parameters of model\")\n",
    "print(reg.best_params_)"
   ]
  },
  {
   "cell_type": "code",
   "execution_count": 15,
   "metadata": {},
   "outputs": [
    {
     "name": "stdout",
     "output_type": "stream",
     "text": [
      "SVR MODEL\n",
      "Accuracy of model:  0.799853637879\n",
      "Parameters of model\n",
      "{'C': 1000, 'gamma': 0.001, 'kernel': 'rbf'}\n",
      "KERNEL_RIDGE MODEL\n",
      "Accuracy of model:  0.821965413325\n",
      "Parameters of model\n",
      "{'alpha': 0.001, 'gamma': 0.0001, 'kernel': 'rbf'}\n",
      "GAUSS MODEL\n",
      "Accuracy of model:  0.842147989342\n",
      "Parameters of model\n",
      "{'alpha': 0.001, 'kernel': 1**2 * RationalQuadratic(alpha=8.63, length_scale=2.82)}\n"
     ]
    }
   ],
   "source": [
    "y= data[\"smax\"].as_matrix()\n",
    "\n",
    "reg = GridSearchCV(SVR(), svr, n_jobs=-1)\n",
    "reg.fit(X, y)\n",
    "print(\"SVR MODEL\")\n",
    "print(\"Accuracy of model: \",reg.best_score_)\n",
    "print(\"Parameters of model\")\n",
    "print(reg.best_params_)\n",
    "\n",
    "reg = GridSearchCV(KernelRidge(), kernel_ridge, n_jobs=-1)\n",
    "reg.fit(X, y)\n",
    "print(\"KERNEL_RIDGE MODEL\")\n",
    "print(\"Accuracy of model: \",reg.best_score_)\n",
    "print(\"Parameters of model\")\n",
    "print(reg.best_params_)\n",
    "\n",
    "reg = GridSearchCV(GaussianProcessRegressor(), gauss, n_jobs=-1)\n",
    "reg.fit(X, y)\n",
    "print(\"GAUSS MODEL\")\n",
    "print(\"Accuracy of model: \",reg.best_score_)\n",
    "print(\"Parameters of model\")\n",
    "print(reg.best_params_)"
   ]
  },
  {
   "cell_type": "code",
   "execution_count": 16,
   "metadata": {},
   "outputs": [
    {
     "name": "stdout",
     "output_type": "stream",
     "text": [
      "SVR MODEL\n",
      "Accuracy of model:  0.260699837829\n",
      "Parameters of model\n",
      "{'C': 1, 'kernel': 'linear'}\n",
      "KERNEL_RIDGE MODEL\n",
      "Accuracy of model:  0.931547404297\n",
      "Parameters of model\n",
      "{'alpha': 0.001, 'gamma': 0.0001, 'kernel': 'rbf'}\n",
      "GAUSS MODEL\n",
      "Accuracy of model:  0.968403626257\n",
      "Parameters of model\n",
      "{'alpha': 0.01, 'kernel': 0.316**2 * DotProduct(sigma_0=0.1) ** 2}\n"
     ]
    }
   ],
   "source": [
    "y= data[\"u2\"].as_matrix()\n",
    "\n",
    "reg = GridSearchCV(SVR(), svr, n_jobs=-1)\n",
    "reg.fit(X, y)\n",
    "print(\"SVR MODEL\")\n",
    "print(\"Accuracy of model: \",reg.best_score_)\n",
    "print(\"Parameters of model\")\n",
    "print(reg.best_params_)\n",
    "\n",
    "reg = GridSearchCV(KernelRidge(), kernel_ridge, n_jobs=-1)\n",
    "reg.fit(X, y)\n",
    "print(\"KERNEL_RIDGE MODEL\")\n",
    "print(\"Accuracy of model: \",reg.best_score_)\n",
    "print(\"Parameters of model\")\n",
    "print(reg.best_params_)\n",
    "\n",
    "reg = GridSearchCV(GaussianProcessRegressor(), gauss, n_jobs=-1)\n",
    "reg.fit(X, y)\n",
    "print(\"GAUSS MODEL\")\n",
    "print(\"Accuracy of model: \",reg.best_score_)\n",
    "print(\"Parameters of model\")\n",
    "print(reg.best_params_)"
   ]
  },
  {
   "cell_type": "code",
   "execution_count": 17,
   "metadata": {
    "collapsed": true
   },
   "outputs": [],
   "source": [
    "models = []\n",
    "models.append(GaussianProcessRegressor(kernel = 1.0*RationalQuadratic(alpha=4.2, length_scale=3.91), alpha = 0.001))\n",
    "models.append(GaussianProcessRegressor(kernel = 1.0*RationalQuadratic(alpha=8.63, length_scale=2.82), alpha = 0.001))\n",
    "models.append(GaussianProcessRegressor(kernel = 0.316**2 * DotProduct(sigma_0=0.1) ** 2, alpha = 0.01))\n",
    "\n",
    "for var, model in zip(output_variables, models):\n",
    "    model.fit(X, data[var].as_matrix())"
   ]
  },
  {
   "cell_type": "markdown",
   "metadata": {},
   "source": [
    "## Exercise 2: sensitivity analysis"
   ]
  },
  {
   "cell_type": "markdown",
   "metadata": {},
   "source": [
    "SALib is a python library for sensitivity analysis.\n",
    "\n",
    "It implements some popular global sensitivity analysis methods: \n",
    "* Morris method - that may be thought of as crude estimation of average absolute value of partial derivative, \n",
    "* Sobol indicies - that show portion of variance in the output that is explained by input,\n",
    "\n",
    "Each method takes **x** and **y** samples as input. But the samples must be properly generated.\n",
    "There are special functions in SALib library to do it.\n",
    "\n",
    "Your tasks:\n",
    "\n",
    "* Calculate Sobol indices:\n",
    "    * Generate **x** and **y** samples using Saltelli’s extension of the Sobol sequence\n",
    "    * Calculate Sobol indices using obtained samples\n",
    "* Calculate screening indices\n",
    "    * Generate **x** and **y** samples for Morris method\n",
    "    * Apply Morris method to generated samples to obtain screening indices\n",
    "* Based on the result try to make your conclusion: what variables influence the output?"
   ]
  },
  {
   "cell_type": "markdown",
   "metadata": {
    "collapsed": true
   },
   "source": [
    "### Теперь мы постараемся понять какие переменные оказывают значимое влияния на различные зависимые переменные,а какие нет. Для этого воспользуемся индексами Соболя и скринингом Морриса. Ниже представленны визуализированные результаты."
   ]
  },
  {
   "cell_type": "code",
   "execution_count": 20,
   "metadata": {},
   "outputs": [
    {
     "name": "stdout",
     "output_type": "stream",
     "text": [
      "Sobol test for mass\n",
      "Regressors importance \t [ 0.09639896  0.4306505   0.00187223  0.00177059  0.49003731  0.00484022]\n",
      "\n",
      "Sobol test for smax\n",
      "Regressors importance \t [ 0.07509459  0.95383031  0.00822059  0.00491049  0.0764663   0.02087797]\n",
      "\n",
      "Sobol test for u2\n",
      "Regressors importance \t [ 0.34293625  0.47023996  0.00356104  0.01210089  0.17581098  0.01873578]\n",
      "\n"
     ]
    },
    {
     "data": {
      "image/png": "[encoded data removed]",
      "text/plain": [
       "<matplotlib.figure.Figure at 0x29587c17208>"
      ]
     },
     "metadata": {},
     "output_type": "display_data"
    }
   ],
   "source": [
    "#Sobol\n",
    "problem = {\n",
    "    'num_vars': 6,\n",
    "    'names': data.columns.values[:6],\n",
    "    'bounds': np.array([[10.0, 110.0],\n",
    "                        [4.0, 50.0],\n",
    "                        [120.0, 140.0],\n",
    "                        [150.0, 168.0],\n",
    "                        [4.0, 50.0],\n",
    "                        [170.0, 200.0]]),\n",
    "    'groups': None\n",
    "    }\n",
    "\n",
    "index = np.arange(6)\n",
    "bw = (1-0.3)/3\n",
    "opacity = 0.6\n",
    "colors =['r', 'g', 'b']\n",
    "inputs = saltelli_sampler.sample(problem, 1000)\n",
    "for i, var, model in zip(range(3), output_variables, models):\n",
    "    output = model.predict(inputs)\n",
    "    Si = sobol.analyze(problem, output)\n",
    "    print(\"Sobol test for \"+var)\n",
    "    print(\"Regressors importance \\t\", Si[\"ST\"])\n",
    "    print()\n",
    "    plt.bar(index + bw*i, Si[\"ST\"], bw, label=var, color=colors[i], alpha = opacity)   \n",
    "plt.xticks(index + (1-0.3)/2, [\"r1\",\"t1\",\"r2\",\"r3\",\"t3\",\"r4\"])\n",
    "plt.legend()\n",
    "plt.title(\"Sobol indicies\")\n",
    "plt.show()"
   ]
  },
  {
   "cell_type": "code",
   "execution_count": 21,
   "metadata": {},
   "outputs": [
    {
     "name": "stdout",
     "output_type": "stream",
     "text": [
      "Morris test for mass\n",
      "Regressors importance \t [ 0.15385203  0.35296957  0.02564477  0.02487814  0.40071071  0.04194477]\n",
      "\n",
      "Morris test for smax\n",
      "Regressors importance \t [ 0.15123698  0.54094346  0.04105012  0.03671586  0.15259425  0.07745932]\n",
      "\n",
      "Morris test for u2\n",
      "Regressors importance \t [ 0.3005373   0.34369376  0.02994899  0.05542317  0.2036807   0.06671608]\n",
      "\n"
     ]
    },
    {
     "data": {
      "image/png": "[encoded data removed]",
      "text/plain": [
       "<matplotlib.figure.Figure at 0x29587c1bd68>"
      ]
     },
     "metadata": {},
     "output_type": "display_data"
    }
   ],
   "source": [
    "#Morris\n",
    "inputs = morris_sampler.sample(problem, 1000,num_levels=4, grid_jump=2)\n",
    "\n",
    "for i, var, model in zip(range(3), output_variables, models):\n",
    "    output = model.predict(inputs)\n",
    "    Si = morris_analyzer.analyze(problem, inputs, output, num_levels=4, grid_jump=2)\n",
    "    print(\"Morris test for \"+var)\n",
    "    w= Si[\"mu_star\"]/sum(Si[\"mu_star\"])\n",
    "    print(\"Regressors importance \\t\", w)\n",
    "    print()\n",
    "    plt.bar(index + bw*i, w, bw, label=var, color=colors[i], alpha = opacity)\n",
    "    \n",
    "plt.xticks(index + (1-0.3)/2, [\"r1\",\"t1\",\"r2\",\"r3\",\"t3\",\"r4\"])\n",
    "plt.legend()\n",
    "plt.title(\"Morris Screening\")\n",
    "plt.show()\n"
   ]
  },
  {
   "cell_type": "markdown",
   "metadata": {},
   "source": [
    "## Значимыми переменными оказались: r1, t1, t3."
   ]
  },
  {
   "cell_type": "markdown",
   "metadata": {},
   "source": [
    "## Exercise 3: Optimization"
   ]
  },
  {
   "cell_type": "markdown",
   "metadata": {},
   "source": [
    "The final goal is to optimize the mass of the rotating disk. It will be done with GTOpt optimizer via approximation the surrogate model constructed. We assume that surrogate model is of reasonable quality. The optimization problem for full parameter space is prepared for you.\n",
    "\n",
    "The following optimization problem should be solved:\n",
    "\n",
    "$$\n",
    "{\\rm mass} \\rightarrow \\min_x \\\\\n",
    "\\mbox{subject to} \\quad S_{max}(x) \\le 600 \\\\\n",
    "\\qquad \\qquad U_2(x) \\le 0.3\n",
    "$$\n",
    "\n",
    "Your tasks:\n",
    "\n",
    "* Perform optimization by running code below\n",
    "* Change optimization problem statement in order to include only important variables into optimization problem statement\n",
    "* Compare the results of optimization for two formulations considered"
   ]
  },
  {
   "cell_type": "markdown",
   "metadata": {},
   "source": [
    "### В данном задании нам предстоит минимизировать массу диска. Из прошлых заданий мы узнали что на массу диска по большей части влияют 3 регрессора:r1,t1,t3. Посмотрим на данную модель минимазации массы сначала со всеми переменными а потом только со значимыми."
   ]
  },
  {
   "cell_type": "code",
   "execution_count": 22,
   "metadata": {},
   "outputs": [
    {
     "name": "stdout",
     "output_type": "stream",
     "text": [
      "     fun: array([ 20.85490044])\n",
      "     jac: array([ -36.10229492,   89.27148438,  -23.296875  ,   83.09667969,\n",
      "        -42.43017578, -110.16357422,    0.        ])\n",
      " message: 'Optimization terminated successfully.'\n",
      "    nfev: 7553\n",
      "     nit: 482\n",
      "    njev: 478\n",
      "  status: 0\n",
      " success: True\n",
      "       x: array([  63.69540421,   15.47277287,  124.34149366,  150.00578785,\n",
      "         40.08380953,  194.70427393])\n"
     ]
    }
   ],
   "source": [
    "#Perform optimization by running code below\n",
    "regressors =[\"r1\",\"t1\",\"r2\",\"r3\",\"t3\",\"r4\"]\n",
    "X=data[regressors].as_matrix()\n",
    "for var, model in zip(output_variables, models):\n",
    "    model.fit(X, data[var].as_matrix())\n",
    "    \n",
    "result =minimize(lambda x: models[0].predict(x.reshape(1, -1)), [109.0, 32.0, 123.0, 154.0, 6.0, 198.0],\n",
    "                 bounds=problem['bounds'],\n",
    "                 constraints=[{'type': 'eq',\n",
    "                               'fun' : lambda x: 600 - models[1].predict(x.reshape(1, -1))},\n",
    "                             {'type': 'eq',\n",
    "                               'fun' : lambda x: 0.3 - models[2].predict(x.reshape(1, -1))},\n",
    "                             ],\n",
    "                options={'maxiter':1000})\n",
    "print(result)"
   ]
  },
  {
   "cell_type": "code",
   "execution_count": 23,
   "metadata": {},
   "outputs": [
    {
     "name": "stdout",
     "output_type": "stream",
     "text": [
      "     fun: array([ 13.62229933])\n",
      "     jac: array([-0.02017212,  0.20278168,  0.15844727,  0.        ])\n",
      " message: 'Optimization terminated successfully.'\n",
      "    nfev: 75\n",
      "     nit: 14\n",
      "    njev: 14\n",
      "  status: 0\n",
      " success: True\n",
      "       x: array([ 50.01736548,  19.97123834,   4.        ])\n"
     ]
    }
   ],
   "source": [
    "#Change optimization problem statement in order to include only important variables into optimization problem statement\n",
    "regressors =[\"r1\",\"t1\",\"t3\"]\n",
    "X=data[regressors].as_matrix()\n",
    "for var, model in zip(output_variables, models):\n",
    "    model.fit(X, data[var].as_matrix())\n",
    "    \n",
    "result =minimize(lambda x: models[0].predict(x.reshape(1, -1)), [109.0, 32.0, 6.0],\n",
    "                 bounds=np.array([[10.0, 110.0],\n",
    "                        [4.0, 50.0],\n",
    "                        [4.0, 50.0]]),\n",
    "                 constraints=[{'type': 'eq',\n",
    "                               'fun' : lambda x: 600 - models[1].predict(x.reshape(1, -1))},\n",
    "                             {'type': 'eq',\n",
    "                               'fun' : lambda x: 0.3 - models[2].predict(x.reshape(1, -1))},\n",
    "                             ])\n",
    "print(result)"
   ]
  },
  {
   "cell_type": "markdown",
   "metadata": {},
   "source": [
    "### Мы пришли к тому что убрав не значимые регрессоры (переменные которые слабо влияют на массу диска) нам удалось уменьшить массу диска при выполнении оптимизационной задачи."
   ]
  }
 ],
 "metadata": {
  "anaconda-cloud": {},
  "celltoolbar": "Raw Cell Format",
  "kernelspec": {
   "display_name": "Python 2",
   "language": "python",
   "name": "python2"
  },
  "language_info": {
   "codemirror_mode": {
    "name": "ipython",
    "version": 2
   },
   "file_extension": ".py",
   "mimetype": "text/x-python",
   "name": "python",
   "nbconvert_exporter": "python",
   "pygments_lexer": "ipython2",
   "version": "2.7.13"
  }
 },
 "nbformat": 4,
 "nbformat_minor": 1
}
