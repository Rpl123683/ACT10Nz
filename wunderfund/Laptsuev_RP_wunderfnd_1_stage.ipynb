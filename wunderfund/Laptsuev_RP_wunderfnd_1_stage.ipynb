{
 "cells": [
  {
   "cell_type": "code",
   "execution_count": 68,
   "metadata": {
    "collapsed": false
   },
   "outputs": [],
   "source": [
    "from pandas import read_csv\n",
    "import random as rnd\n",
    "import numpy as np\n",
    "%matplotlib inline\n",
    "import matplotlib.pyplot as plt"
   ]
  },
  {
   "cell_type": "code",
   "execution_count": null,
   "metadata": {
    "collapsed": true
   },
   "outputs": [],
   "source": [
    "123**(45**67)"
   ]
  },
  {
   "cell_type": "code",
   "execution_count": 7,
   "metadata": {
    "collapsed": false,
    "scrolled": true
   },
   "outputs": [
    {
     "data": {
      "text/plain": [
       "5.094968920268514e-82"
      ]
     },
     "execution_count": 7,
     "metadata": {},
     "output_type": "execute_result"
    }
   ],
   "source": [
    "((0.9)**2017)*100000000000"
   ]
  },
  {
   "cell_type": "code",
   "execution_count": 114,
   "metadata": {
    "collapsed": false
   },
   "outputs": [],
   "source": [
    "out = read_csv('WunderFund_data.csv', sep=',', skiprows=[0], header=None)"
   ]
  },
  {
   "cell_type": "code",
   "execution_count": 115,
   "metadata": {
    "collapsed": false
   },
   "outputs": [
    {
     "data": {
      "text/plain": [
       "160"
      ]
     },
     "execution_count": 115,
     "metadata": {},
     "output_type": "execute_result"
    }
   ],
   "source": [
    "def max_profit(c):\n",
    "    answer=list()\n",
    "    for i in range(len(c)):\n",
    "        for j in range(i+1,len(c)):\n",
    "            answer.append(c[j]-c[i])\n",
    "    return max(answer)\n",
    "max_profit(out[1])"
   ]
  },
  {
   "cell_type": "code",
   "execution_count": 126,
   "metadata": {
    "collapsed": false
   },
   "outputs": [
    {
     "data": {
      "text/plain": [
       "750"
      ]
     },
     "execution_count": 126,
     "metadata": {},
     "output_type": "execute_result"
    }
   ],
   "source": [
    "raz=list()\n",
    "raz.append(0)\n",
    "for i in range(1,len(out[1])):\n",
    "    raz.append(out[1][i]-out[1][i-1])\n",
    "profit=0\n",
    "for i in raz:\n",
    "    if i>0:\n",
    "        profit+=i\n",
    "profit"
   ]
  },
  {
   "cell_type": "code",
   "execution_count": 116,
   "metadata": {
    "collapsed": false
   },
   "outputs": [
    {
     "data": {
      "text/plain": [
       "-85.627722772277224"
      ]
     },
     "execution_count": 116,
     "metadata": {},
     "output_type": "execute_result"
    }
   ],
   "source": [
    "def mean_profit(c):\n",
    "    answer=list()\n",
    "    for i in range(len(c)):\n",
    "        for j in range(i+1,len(c)):\n",
    "            answer.append(c[j]-c[i])\n",
    "    return np.mean(answer)\n",
    "mean_profit(out[1])"
   ]
  },
  {
   "cell_type": "code",
   "execution_count": 125,
   "metadata": {
    "collapsed": false
   },
   "outputs": [
    {
     "data": {
      "text/plain": [
       "40"
      ]
     },
     "execution_count": 125,
     "metadata": {},
     "output_type": "execute_result"
    }
   ],
   "source": [
    "def rand_sim(c):\n",
    "    sell=0\n",
    "    answer=0\n",
    "    for i in range(len(c)):\n",
    "        if i<len(c)-1:\n",
    "            if rnd.random()>=0.5:\n",
    "                if sell==0:\n",
    "                    answer-=c[i]\n",
    "                    sell=1\n",
    "                else:\n",
    "                    answer+=c[i]\n",
    "                    sell=0\n",
    "        else:\n",
    "            if sell==1:\n",
    "                answer+=c[i]\n",
    "    return answer\n",
    "rand_sim(out[1])    "
   ]
  },
  {
   "cell_type": "code",
   "execution_count": 118,
   "metadata": {
    "collapsed": false
   },
   "outputs": [
    {
     "data": {
      "text/plain": [
       "-95.210800000000006"
      ]
     },
     "execution_count": 118,
     "metadata": {},
     "output_type": "execute_result"
    }
   ],
   "source": [
    "res=list()\n",
    "ans=list()      \n",
    "for j in range(1):\n",
    "    for i in range(100000):\n",
    "        res.append(rand_sim(out[1]))\n",
    "    ans.append(np.mean(res))\n",
    "np.mean(ans)"
   ]
  },
  {
   "cell_type": "code",
   "execution_count": 92,
   "metadata": {
    "collapsed": false
   },
   "outputs": [
    {
     "data": {
      "text/plain": [
       "0.0001"
      ]
     },
     "execution_count": 92,
     "metadata": {},
     "output_type": "execute_result"
    }
   ],
   "source": [
    "round(np.mean(ans),5)"
   ]
  },
  {
   "cell_type": "code",
   "execution_count": 22,
   "metadata": {
    "collapsed": false
   },
   "outputs": [],
   "source": [
    "def yes(n):\n",
    "    if n<3:\n",
    "        print \"wrong input\"\n",
    "    answer=[0,0,0,2,3,4]\n",
    "    if n<=5:\n",
    "        return answer[n]\n",
    "    else:\n",
    "        for i in range(6,n+1):\n",
    "            answer.append(answer[i-1]+answer[i-3])\n",
    "        return answer"
   ]
  },
  {
   "cell_type": "code",
   "execution_count": 27,
   "metadata": {
    "collapsed": false
   },
   "outputs": [
    {
     "data": {
      "text/plain": [
       "[0,\n",
       " 0,\n",
       " 0,\n",
       " 2,\n",
       " 3,\n",
       " 4,\n",
       " 6,\n",
       " 9,\n",
       " 13,\n",
       " 19,\n",
       " 28,\n",
       " 41,\n",
       " 60,\n",
       " 88,\n",
       " 129,\n",
       " 189,\n",
       " 277,\n",
       " 406,\n",
       " 595,\n",
       " 872,\n",
       " 1278,\n",
       " 1873,\n",
       " 2745,\n",
       " 4023,\n",
       " 5896,\n",
       " 8641,\n",
       " 12664,\n",
       " 18560,\n",
       " 27201,\n",
       " 39865,\n",
       " 58425,\n",
       " 85626,\n",
       " 125491,\n",
       " 183916,\n",
       " 269542,\n",
       " 395033,\n",
       " 578949,\n",
       " 848491,\n",
       " 1243524,\n",
       " 1822473,\n",
       " 2670964,\n",
       " 3914488,\n",
       " 5736961,\n",
       " 8407925,\n",
       " 12322413,\n",
       " 18059374,\n",
       " 26467299,\n",
       " 38789712,\n",
       " 56849086,\n",
       " 83316385,\n",
       " 122106097,\n",
       " 178955183,\n",
       " 262271568,\n",
       " 384377665,\n",
       " 563332848,\n",
       " 825604416,\n",
       " 1209982081,\n",
       " 1773314929,\n",
       " 2598919345L,\n",
       " 3808901426L,\n",
       " 5582216355L,\n",
       " 8181135700L,\n",
       " 11990037126L,\n",
       " 17572253481L,\n",
       " 25753389181L,\n",
       " 37743426307L,\n",
       " 55315679788L,\n",
       " 81069068969L,\n",
       " 118812495276L,\n",
       " 174128175064L,\n",
       " 255197244033L,\n",
       " 374009739309L,\n",
       " 548137914373L,\n",
       " 803335158406L,\n",
       " 1177344897715L,\n",
       " 1725482812088L,\n",
       " 2528817970494L,\n",
       " 3706162868209L,\n",
       " 5431645680297L,\n",
       " 7960463650791L,\n",
       " 11666626519000L,\n",
       " 17098272199297L,\n",
       " 25058735850088L,\n",
       " 36725362369088L,\n",
       " 53823634568385L,\n",
       " 78882370418473L,\n",
       " 115607732787561L,\n",
       " 169431367355946L,\n",
       " 248313737774419L,\n",
       " 363921470561980L,\n",
       " 533352837917926L,\n",
       " 781666575692345L,\n",
       " 1145588046254325L,\n",
       " 1678940884172251L,\n",
       " 2460607459864596L,\n",
       " 3606195506118921L,\n",
       " 5285136390291172L,\n",
       " 7745743850155768L,\n",
       " 11351939356274689L,\n",
       " 16637075746565861L,\n",
       " 24382819596721629L]"
      ]
     },
     "execution_count": 27,
     "metadata": {},
     "output_type": "execute_result"
    }
   ],
   "source": [
    "yes(100)[100]"
   ]
  },
  {
   "cell_type": "code",
   "execution_count": null,
   "metadata": {
    "collapsed": true
   },
   "outputs": [],
   "source": []
  }
 ],
 "metadata": {
  "kernelspec": {
   "display_name": "Python 2",
   "language": "python",
   "name": "python2"
  },
  "language_info": {
   "codemirror_mode": {
    "name": "ipython",
    "version": 2
   },
   "file_extension": ".py",
   "mimetype": "text/x-python",
   "name": "python",
   "nbconvert_exporter": "python",
   "pygments_lexer": "ipython2",
   "version": "2.7.13"
  }
 },
 "nbformat": 4,
 "nbformat_minor": 2
}
