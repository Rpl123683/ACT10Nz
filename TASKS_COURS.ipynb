{
 "cells": [
  {
   "cell_type": "markdown",
   "metadata": {},
   "source": [
    "# 1. https://www.coursera.org/learn/algorithmic-toolbox/home/welcome"
   ]
  },
  {
   "cell_type": "markdown",
   "metadata": {},
   "source": [
    "## Week1"
   ]
  },
  {
   "cell_type": "markdown",
   "metadata": {},
   "source": [
    "## Maximum Pairwise Product\n",
    "Problem\n",
    "\n",
    "Given a sequence of non-negative integers a0,…,an−1, find the maximum pairwise product, that is, the largest integer that can be obtained by multiplying two different elements from the sequence (or, more formally, max0≤i≠j≤n−1aiaj). Different elements here mean ai and aj with i≠j (it can be the case that ai=aj).\n",
    "\n",
    "Input format\n",
    "\n",
    "The first line of the input contains an integer n. The next line contains n non-negative integers a0,…,an−1 (separated by spaces).\n",
    "\n",
    "Constraints\n",
    "\n",
    "2≤n≤2⋅105; 0≤a0,…,an−1≤105.\n",
    "\n",
    "Output format\n",
    "\n",
    "Output a single number — the maximum pairwise product."
   ]
  },
  {
   "cell_type": "code",
   "execution_count": 4,
   "metadata": {},
   "outputs": [
    {
     "name": "stdout",
     "output_type": "stream",
     "text": [
      "7 9\n",
      "16\n"
     ]
    }
   ],
   "source": [
    "# Uses python2\n",
    "B=raw_input().split()\n",
    "print int(B[0])+int(B[1])"
   ]
  },
  {
   "cell_type": "code",
   "execution_count": 25,
   "metadata": {},
   "outputs": [
    {
     "name": "stdout",
     "output_type": "stream",
     "text": [
      "5\n",
      "4 6 2 6 1\n",
      "36\n"
     ]
    }
   ],
   "source": [
    "# Uses python2\n",
    "A=raw_input(\"\")\n",
    "B=raw_input(\"\").split()\n",
    "def maximus(A,B):\n",
    "    max1=None\n",
    "    for i in range(int(A)):\n",
    "        if int(B[i])>=max1:\n",
    "            max1=int(B[i])\n",
    "            z=i\n",
    "    return(max1,z)\n",
    "(m1,index1)=maximus(A,B)\n",
    "del B[index1]\n",
    "(m2,index2)=maximus(int(A)-1,B)\n",
    "print m1*m2"
   ]
  },
  {
   "cell_type": "markdown",
   "metadata": {},
   "source": [
    "## Week2\n",
    "https://d3c33hcgiwev3.cloudfront.net/_ae30a0104a8cbaedfb1b770d1905238a_01_introduction_problems.pdf?Expires=1490572800&Signature=SWOuswAHThI89F~RZGrM7A9cEe7BteI2LytbxMK-rsRz7sypujNyzAKIOHRnkkaegsUFOy6Fl-tL4Gqn3xw~Lo2KKCA0gT6NysiDUiZadWvbwn09lZbSYD5VZcR8Z9~FLiVpk8-XD27pTeHVHqZsd-L62eJ50W8XNIHks6yhhAA_&Key-Pair-Id=APKAJLTNE6QMUY6HBC5A"
   ]
  },
  {
   "cell_type": "markdown",
   "metadata": {},
   "source": [
    "Small Fibonacci Number\n",
    "Task. Given an integer 𝑛, find the 𝑛th Fibonacci number 𝐹𝑛.\n",
    "Input Format. The input consists of a single integer 𝑛.\n",
    "Constraints. 0 ≤ 𝑛 ≤ 45.\n",
    "Output Format. Output 𝐹𝑛.\n"
   ]
  },
  {
   "cell_type": "code",
   "execution_count": null,
   "metadata": {
    "collapsed": true
   },
   "outputs": [],
   "source": [
    "#python2\n",
    "n=int(raw_input(\"\"))\n",
    "a=[0,1]\n",
    "try:\n",
    "    for i in range(2,n+1):\n",
    "        a.append(int(a[i-1])+int(a[i-2]))\n",
    "    print a[n]\n",
    "except:\n",
    "    print n\n"
   ]
  },
  {
   "cell_type": "markdown",
   "metadata": {},
   "source": [
    "Last Digit of a Large Fibonacci Number\n",
    "Problem Description\n",
    "Task. Given an integer 𝑛, find the last digit of the 𝑛th Fibonacci number 𝐹𝑛 (that is, 𝐹𝑛 mod 10).\n",
    "Input Format. The input consists of a single integer 𝑛.\n",
    "Constraints. 0 ≤ 𝑛 ≤ 107\n",
    ".\n",
    "Output Format. Output the last digit of 𝐹𝑛."
   ]
  },
  {
   "cell_type": "code",
   "execution_count": 1,
   "metadata": {},
   "outputs": [
    {
     "name": "stdout",
     "output_type": "stream",
     "text": [
      "15\n",
      "610\n"
     ]
    }
   ],
   "source": [
    "#python2\n",
    "n=int(raw_input(\"\"))\n",
    "a=[0,1]\n",
    "try:\n",
    "    for i in range(2,n+1):\n",
    "        a.append(int(a[i-1])+int(a[i-2]))\n",
    "    print a[n]\n",
    "except:\n",
    "    print n"
   ]
  },
  {
   "cell_type": "markdown",
   "metadata": {},
   "source": [
    "3 Problem: Greatest Common Divisor\n",
    "Problem Description\n",
    "Task. Given two integers 𝑎 and 𝑏, find their greatest common divisor.\n",
    "Input Format. The two integers 𝑎, 𝑏 are given in the same line separated by space.\n",
    "Constraints. 1 ≤ 𝑎, 𝑏 ≤ 2 · 109\n",
    ".\n",
    "Output Format. Output GCD(𝑎, 𝑏)."
   ]
  },
  {
   "cell_type": "code",
   "execution_count": null,
   "metadata": {
    "collapsed": true
   },
   "outputs": [],
   "source": [
    "#python2\n",
    "x=str.split(raw_input(\"\"))\n",
    "x[1]=int(x[1])\n",
    "x[0]=int(x[0])\n",
    "x.sort()\n",
    "while True:\n",
    "    try:\n",
    "        x[1]=x[1]%x[0]\n",
    "        x.sort()\n",
    "        if 0 in x:\n",
    "            print x[1]\n",
    "            break\n",
    "    except:\n",
    "        print x[1]        \n",
    "        break"
   ]
  },
  {
   "cell_type": "markdown",
   "metadata": {},
   "source": [
    "5 Advanced Problem: Huge Fibonacci Number modulo m\n",
    "Problem Description\n",
    "Task. Given two integers 𝑛 and 𝑚, output 𝐹𝑛 mod 𝑚 (that is, the remainder of 𝐹𝑛 when divided by 𝑚).\n",
    "Input Format. The input consists of two integers 𝑛 and 𝑚 given on the same line (separated by a space).\n",
    "Constraints. 1 ≤ 𝑛 ≤ 1018\n",
    ", 2 ≤ 𝑚 ≤ 105\n",
    ".\n",
    "Output Format. Output 𝐹𝑛 mod 𝑚."
   ]
  },
  {
   "cell_type": "code",
   "execution_count": null,
   "metadata": {
    "collapsed": true
   },
   "outputs": [],
   "source": [
    "#python2\n",
    "x=str.split(raw_input(\"\"))\n",
    "n=int(x[0])\n",
    "m=int(x[1])\n",
    "a=[0,1]\n",
    "period=1\n",
    "for i in range(2,6*m+3):\n",
    "    a.append(int(a[i-1])+int(a[i-2]))\n",
    "for i in range (0,6*m+3):\n",
    "    a[i]=a[i]%m\n",
    "for i in range (2,6*m+2):\n",
    "    if a[i]==0:\n",
    "        if a[i+1]==1:\n",
    "            period=i\n",
    "            break\n",
    "new_n=n%period\n",
    "a_new=[0,1]\n",
    "for i in range(2,new_n+1):\n",
    "    a_new.append(int(a_new[i-1])+int(a_new[i-2]))\n",
    "for i in range (0,new_n+1):\n",
    "    a_new[i]=a_new[i]%m\n",
    "print a_new[new_n]  \n"
   ]
  },
  {
   "cell_type": "markdown",
   "metadata": {},
   "source": [
    "6 Advanced Problem: Sum of Fibonacci Numbers\n",
    "Problem Description\n",
    "Task. Given an integer 𝑛, find the last digit of the sum 𝐹0 + 𝐹1 + · · · + 𝐹𝑛.\n",
    "Input Format. The input consists of a single integer 𝑛.\n",
    "Constraints. 0 ≤ 𝑛 ≤ 1014\n",
    ".\n",
    "Output Format. Output the last digit of 𝐹0 + 𝐹1 + · · · + 𝐹𝑛."
   ]
  },
  {
   "cell_type": "code",
   "execution_count": null,
   "metadata": {
    "collapsed": true
   },
   "outputs": [],
   "source": [
    "#python2\n",
    "n=int(raw_input(\"\"))\n",
    "a=[0,1]\n",
    "if n<=1:\n",
    "    print n\n",
    "else:\n",
    "    for i in range(2,n+1):\n",
    "        a.append((int(a[i-1])+int(a[i-2]))%10)\n",
    "    print int(sum(a)%10) \n"
   ]
  },
  {
   "cell_type": "markdown",
   "metadata": {},
   "source": [
    "7 Advanced Problem: Partial Sum of Fibonacci Numbers\n",
    "Problem Description\n",
    "Task. Given two non-negative integers 𝑚 and 𝑛, where 𝑚 ≤ 𝑛, find the last digit of the sum 𝐹𝑚 + 𝐹𝑚+1 +\n",
    "· · · + 𝐹𝑛.\n",
    "Input Format. The input consists of two non-negative integers 𝑚 and 𝑛 separated by a space.\n",
    "Constraints. 0 ≤ 𝑚 ≤ 𝑛 ≤ 1018\n",
    ".\n",
    "Output Format. Output the last digit of 𝐹𝑚 + 𝐹𝑚+1 + · · · + 𝐹𝑛.\n",
    "\n"
   ]
  },
  {
   "cell_type": "code",
   "execution_count": null,
   "metadata": {
    "collapsed": true
   },
   "outputs": [],
   "source": [
    "#python2\n",
    "x=str.split(raw_input(\"\"))\n",
    "x[1]=int(x[1])\n",
    "x[0]=int(x[0])\n",
    "x.sort()\n",
    "n=x[1]\n",
    "a=[0,1]\n",
    "if n<=1:\n",
    "    print n\n",
    "else:\n",
    "    for i in range(2,n+1):\n",
    "        a.append((int(a[i-1])+int(a[i-2]))%10)\n",
    "    print sum(a[x[0]:x[1]+1])%10 \n"
   ]
  },
  {
   "cell_type": "markdown",
   "metadata": {},
   "source": [
    "## Week3 \n",
    "https://d3c33hcgiwev3.cloudfront.net/_557e747b2146577e6cbf61df0f353dc6_02_greedy_algorithms_problems.pdf?Expires=1490572800&Signature=F6noFTGirRYlpHPED4jzzOnYOFkAUCNXc1JFv~sKzGTHZKqNuZ9xb60q2-6W8RhG01QRUrT9iJPHsN8tgoeD53AA3fWSHVF6sLz7WEQe1cHPR1Icl1YhuESemFabC2~ykpffJAR9u0Ehi3cAnbOiVFDiRLkCosIldgRn3fcsVpE_&Key-Pair-Id=APKAJLTNE6QMUY6HBC5A"
   ]
  },
  {
   "cell_type": "markdown",
   "metadata": {},
   "source": [
    "1 Problem: Changing Money\n",
    "Problem Description\n",
    "Task. The goal in this problem is to find the minimum number of coins needed to change the input value\n",
    "(an integer) into coins with denominations 1, 5, and 10.\n",
    "Input Format. The input consists of a single integer 𝑚.\n",
    "Constraints. 1 ≤ 𝑚 ≤ 103\n",
    ".\n",
    "Output Format. Output the minimum number of coins with denominations 1, 5, 10 that changes 𝑚.\n"
   ]
  },
  {
   "cell_type": "code",
   "execution_count": null,
   "metadata": {
    "collapsed": true
   },
   "outputs": [],
   "source": [
    "# Uses python2\n",
    "x=int(raw_input(\"\"))\n",
    "z=x/10\n",
    "z1=x%10\n",
    "l=z1/5\n",
    "l1=z1%5\n",
    "final=l1+l+z\n",
    "print(final)"
   ]
  },
  {
   "cell_type": "code",
   "execution_count": null,
   "metadata": {
    "collapsed": true
   },
   "outputs": [],
   "source": [
    "#python 2\n",
    "x=int(raw_input(\"\"))\n",
    "def changemoney(x):\n",
    "    count=0\n",
    "    while x>0:\n",
    "        if x-10>=0:\n",
    "            x+=-10\n",
    "            count+=1\n",
    "        elif x-5>=0:\n",
    "            x+=-5\n",
    "            count+=1\n",
    "        elif x-1>=0:\n",
    "            x+=-1\n",
    "            count+=1\n",
    "    return count\n",
    "changemoney(x)"
   ]
  },
  {
   "cell_type": "markdown",
   "metadata": {},
   "source": [
    "2 Problem: Maximizing the Value of a Loot\n",
    "Problem Description\n",
    "Task. The goal of this code problem is to implement an algorithm for the fractional knapsack problem.\n",
    "Input Format. The first line of the input contains the number 𝑛 of items and the capacity 𝑊 of a knapsack.\n",
    "The next 𝑛 lines define the values and weights of the items. The 𝑖-th line contains integers 𝑣𝑖 and 𝑤𝑖—the\n",
    "value and the weight of 𝑖-th item, respectively.\n",
    "Constraints. 1 ≤ 𝑛 ≤ 103\n",
    ", 0 ≤ 𝑊 ≤ 2 · 106\n",
    "; 0 ≤ 𝑣𝑖 ≤ 2 · 106\n",
    ", 0 < 𝑤𝑖 ≤ 2 · 106\n",
    "for all 1 ≤ 𝑖 ≤ 𝑛. All the\n",
    "numbers are integers.\n",
    "Output Format. Output the maximal value of fractions of items that fit into the knapsack. The absolute\n",
    "value of the difference between the answer of your program and the optimal value should be at most\n",
    "10−3\n",
    ". To ensure this, output your answer with at least four digits after the decimal point (otherwise\n",
    "your answer, while being computed correctly, can turn out to be wrong because of rounding issues)"
   ]
  },
  {
   "cell_type": "code",
   "execution_count": null,
   "metadata": {
    "collapsed": true
   },
   "outputs": [],
   "source": [
    "# Uses python2\n",
    "x=(raw_input(\"\")).split()\n",
    "n=int(x[0])\n",
    "capacity=int(x[1])\n",
    "weights=list()\n",
    "values=list()\n",
    "for i in range (0,n):\n",
    "    q=raw_input(\"\").split()\n",
    "    weights.append(int(q[1]))\n",
    "    values.append(int(q[0]))\n",
    "value = 0\n",
    "z=list()\n",
    "for i in range(0,n):\n",
    "    z.append(float(values[i])/float(weights[i]))\n",
    "try:\n",
    "    while capacity>0:\n",
    "        t=z.index(max(z))\n",
    "        l=min(weights[t],capacity)\n",
    "        value=value+l*max(z)\n",
    "        capacity=capacity-l\n",
    "        del weights[t]\n",
    "        del values[t]\n",
    "        del z[t]\n",
    "except:\n",
    "    print(\"{:.10f}\".format(value))    \n",
    "print(\"{:.10f}\".format(value))"
   ]
  },
  {
   "cell_type": "code",
   "execution_count": null,
   "metadata": {
    "collapsed": true
   },
   "outputs": [],
   "source": [
    "#python 2\n",
    "bag=map(int,raw_input(\"\").split())\n",
    "n=int(bag[0])\n",
    "items=list()\n",
    "for i in range(n):\n",
    "    items.append(map(int,raw_input(\"\").split()))\n",
    "def baginput(bag,items):\n",
    "    result=0\n",
    "    eff=list()\n",
    "    for i in range(n):\n",
    "        eff.append(float(items[i][0])/float(items[i][1]))\n",
    "    while bag[1]>0:\n",
    "        c=eff.index(max(eff))\n",
    "        if bag[1]<=items[c][1]:\n",
    "            result+=bag[1]*eff[c]\n",
    "            bag[1]=0\n",
    "        else:\n",
    "            result+=items[c][0]\n",
    "            bag[1]+=-items[c][1]\n",
    "            del eff[c]\n",
    "    return result\n",
    "baginput(bag,items)"
   ]
  },
  {
   "cell_type": "markdown",
   "metadata": {},
   "source": [
    "3 Problem: Maximizing Revenue in Online Ad Placement\n",
    "Problem Description\n",
    "Task. Given two sequences 𝑎1, 𝑎2, . . . , 𝑎𝑛 (𝑎𝑖\n",
    "is the profit per click of the 𝑖-th ad) and 𝑏1, 𝑏2, . . . , 𝑏𝑛 (𝑏𝑖\n",
    "is\n",
    "the average number of clicks per day of the 𝑖-th slot), we need to partition them into 𝑛 pairs (𝑎𝑖\n",
    ", 𝑏𝑗 )\n",
    "such that the sum of their products is maximized.\n",
    "Input Format. The first line contains an integer 𝑛, the second one contains a sequence of integers\n",
    "𝑎1, 𝑎2, . . . , 𝑎𝑛, the third one contains a sequence of integers 𝑏1, 𝑏2, . . . , 𝑏𝑛.\n",
    "Constraints. 1 ≤ 𝑛 ≤ 103\n",
    "; −105 ≤ 𝑎𝑖\n",
    ", 𝑏𝑖 ≤ 105\n",
    "for all 1 ≤ 𝑖 ≤ 𝑛.\n",
    "Output Format. Output the maximum value of ∑︀𝑛\n",
    "𝑖=1\n",
    "𝑎𝑖𝑐𝑖\n",
    ", where 𝑐1, 𝑐2, . . . , 𝑐𝑛 is a permutation of\n",
    "𝑏1, 𝑏2, . . . , 𝑏𝑛.\n"
   ]
  },
  {
   "cell_type": "code",
   "execution_count": null,
   "metadata": {
    "collapsed": true
   },
   "outputs": [],
   "source": [
    "# Uses python2\n",
    "n=int(raw_input(\"\"))\n",
    "y=raw_input(\"\").split()\n",
    "z=raw_input(\"\").split()\n",
    "out=0\n",
    "for i in range(0,n):\n",
    "    v=y.index(max(y))\n",
    "    b=z.index(max(z))\n",
    "    out=out+int(max(y))*int(max(z))\n",
    "    del y[v]\n",
    "    del z[b]\n",
    "print(out)"
   ]
  },
  {
   "cell_type": "code",
   "execution_count": null,
   "metadata": {
    "collapsed": true
   },
   "outputs": [],
   "source": [
    "#python 2\n",
    "n=int(raw_input(\"\"))\n",
    "a=map(int,raw_input(\"\").split())\n",
    "b=map(int,raw_input(\"\").split())\n",
    "def max_rev(n,a,b):\n",
    "    result=0\n",
    "    while n>0:\n",
    "        ai=a.index(max(a))\n",
    "        bi=b.index(max(b))\n",
    "        result+=a[ai]*b[bi]\n",
    "        del a[ai]\n",
    "        del b[bi]\n",
    "        n+=-1\n",
    "    return result\n",
    "max_rev(n,a,b)"
   ]
  },
  {
   "cell_type": "markdown",
   "metadata": {},
   "source": [
    "4 Problem: Collecting Signatures\n",
    "Problem Description\n",
    "Task. Given a set of 𝑛 segments {[𝑎0, 𝑏0], [𝑎1, 𝑏1], . . . , [𝑎𝑛−1, 𝑏𝑛−1]} with integer coordinates on a line, find\n",
    "the minimum number 𝑚 of points such that each segment contains at least one point. That is, find a\n",
    "set of integers 𝑋 of the minimum size such that for any segment [𝑎𝑖\n",
    ", 𝑏𝑖\n",
    "] there is a point 𝑥 ∈ 𝑋 such\n",
    "that 𝑎𝑖 ≤ 𝑥 ≤ 𝑏𝑖\n",
    ".\n",
    "Input Format. The first line of the input contains the number 𝑛 of segments. Each of the following 𝑛 lines\n",
    "contains two integers 𝑎𝑖 and 𝑏𝑖 (separated by a space) defining the coordinates of endpoints of the 𝑖-th\n",
    "segment.\n",
    "Constraints. 1 ≤ 𝑛 ≤ 100; 0 ≤ 𝑎𝑖 ≤ 𝑏𝑖 ≤ 109\n",
    "for all 0 ≤ 𝑖 < 𝑛.\n",
    "Output Format. Output the minimum number 𝑚 of points on the first line and the integer coordinates\n",
    "of 𝑚 points (separated by spaces) on the second line. You can output the points in any order. If there\n",
    "are many such sets of points, you can output any set. (It is not difficult to see that there always exist\n",
    "a set of points of the minimum size such that all the coordinates of the points are integers.)\n"
   ]
  },
  {
   "cell_type": "code",
   "execution_count": null,
   "metadata": {
    "collapsed": true
   },
   "outputs": [],
   "source": [
    "# Uses python2\n",
    "n=int(raw_input(\"\"))\n",
    "q=list()\n",
    "point=0\n",
    "points_place=list()\n",
    "count=1\n",
    "for i in range(0,n):\n",
    "    q.append(raw_input(\"\").split())\n",
    "while count!=0:\n",
    "    count=0\n",
    "    point=point+1\n",
    "    q2=list()\n",
    "    for i in range(0,n):\n",
    "        q2.append(int(q[i][1]))\n",
    "    a=min(q2)\n",
    "    index_a=q2.index(a)\n",
    "    points_place.append(str(a))\n",
    "    del_list=list()\n",
    "    for i in range(0,n):\n",
    "        if int(q[i][0])>a:\n",
    "            count=count+1\n",
    "        else:\n",
    "            del_list.append(i)\n",
    "    for i in sorted(del_list, reverse=True):\n",
    "        del q[i] \n",
    "    n=n-len(del_list)\n",
    "print(point)\n",
    "print(\" \" . join(points_place))\n"
   ]
  },
  {
   "cell_type": "code",
   "execution_count": null,
   "metadata": {
    "collapsed": true
   },
   "outputs": [],
   "source": [
    "#pyton 2\n",
    "n=int(raw_input(\"\"))\n",
    "begin=list()\n",
    "end=list()\n",
    "for i in range(n):\n",
    "    c=map(int,raw_input(\"\").split())\n",
    "    begin.append(c[0])\n",
    "    end.append(c[1])\n",
    "def optimal_points(n,begin,end):\n",
    "    answer=list()\n",
    "    count=0\n",
    "    while n>0:\n",
    "        minimum=min(end)\n",
    "        answer.append(minimum)\n",
    "        count+=1\n",
    "        for i in reversed(range(n)):\n",
    "            if begin[i]<=minimum:\n",
    "                del begin[i]\n",
    "                del end[i]\n",
    "                n+=-1\n",
    "    return (count,answer)\n",
    "optimal_points(n,begin,end)"
   ]
  },
  {
   "cell_type": "markdown",
   "metadata": {},
   "source": [
    "5 Problem: Maximizing the Number of Prize Places in a Competition\n",
    "Problem Description\n",
    "Task. The goal of this problem is to represent a given positive integer 𝑛 as a sum of as many pairwise\n",
    "distinct positive integers as possible. That is, to find the maximum 𝑘 such that 𝑛 can be written as\n",
    "𝑎1 + 𝑎2 + · · · + 𝑎𝑘 where 𝑎1, . . . , 𝑎𝑘 are positive integers and 𝑎𝑖 ̸= 𝑎𝑗 for all 1 ≤ 𝑖 < 𝑗 ≤ 𝑘.\n",
    "Input Format. The input consists of a single integer 𝑛.\n",
    "Constraints. 1 ≤ 𝑛 ≤ 109\n",
    ".\n",
    "Output Format. In the first line, output the maximum number 𝑘 such that 𝑛 can be represented as a sum\n",
    "of 𝑘 pairwise distinct positive integers. In the second line, output 𝑘 pairwise distinct positive integers\n",
    "that sum up to 𝑛 (if there are many such representations, output any of them)."
   ]
  },
  {
   "cell_type": "code",
   "execution_count": null,
   "metadata": {
    "collapsed": true
   },
   "outputs": [],
   "source": [
    "# Uses python2\n",
    "n=int(raw_input(\"\"))\n",
    "count=1\n",
    "z=0\n",
    "z_list=list()\n",
    "while count!=0:\n",
    "   count=0\n",
    "   z=z+1\n",
    "   if (n-z)>=(z+1):\n",
    "       count=count+1\n",
    "       z_list.append(str(z))\n",
    "   else:\n",
    "       z_list.append(str(n))\n",
    "   n=n-z\n",
    "print(len(z_list))\n",
    "print(\" \" . join(z_list))"
   ]
  },
  {
   "cell_type": "code",
   "execution_count": null,
   "metadata": {},
   "outputs": [],
   "source": [
    "#pyton 2\n",
    "n=int(raw_input(\"\"))\n",
    "def prizes(n):\n",
    "    answer=list()\n",
    "    i=1\n",
    "    while n>0:\n",
    "        if n-i>=i+1:\n",
    "            n+=-i\n",
    "            answer.append(i)\n",
    "            i+=1\n",
    "        else:\n",
    "            answer.append(n)\n",
    "            n=0\n",
    "    return answer\n",
    "prizes(n)"
   ]
  },
  {
   "cell_type": "markdown",
   "metadata": {},
   "source": [
    "6 Advanced Problem: Maximizing Your Salary\n",
    "Problem Description\n",
    "Task. Compose the largest number out of a set of integers.\n",
    "Input Format. The first line of the input contains an integer 𝑛. The second line contains integers\n",
    "𝑎1, 𝑎2, . . . , 𝑎𝑛.\n",
    "Constraints. 1 ≤ 𝑛 ≤ 100; 1 ≤ 𝑎𝑖 ≤ 103\n",
    "for all 1 ≤ 𝑖 ≤ 𝑛.\n",
    "Output Format. Output the largest number that can be composed out of 𝑎1, 𝑎2, . . . , 𝑎𝑛.\n",
    "    "
   ]
  },
  {
   "cell_type": "code",
   "execution_count": null,
   "metadata": {
    "collapsed": true
   },
   "outputs": [],
   "source": [
    "#Uses python2\n",
    "n=int(raw_input(\"\"))\n",
    "y=raw_input(\"\").split()\n",
    "z=list()\n",
    "salary=list()\n",
    "for i in range(0,n):\n",
    "    if len(y[i])<3:\n",
    "        z.append(y[i]+(3-len(y[i]))*y[i][len(y[i])-1])\n",
    "while n!=0:\n",
    "    m=z.index(max(z))\n",
    "    salary.append(y[m])\n",
    "    del y[m]\n",
    "    del z[m]\n",
    "    n=n-1\n",
    "print(\"\" . join(salary))"
   ]
  },
  {
   "cell_type": "markdown",
   "metadata": {},
   "source": [
    "## Week 4"
   ]
  },
  {
   "cell_type": "markdown",
   "metadata": {},
   "source": [
    "1 Problem: Implementing Binary Search\n",
    "Problem Introduction\n",
    "In this problem, you will implement the binary search algorithm that allows searching\n",
    "very efficiently (even huge) lists, provided that the list is sorted.\n"
   ]
  },
  {
   "cell_type": "code",
   "execution_count": 13,
   "metadata": {},
   "outputs": [
    {
     "name": "stdout",
     "output_type": "stream",
     "text": [
      "10 2 3 4 5 6 7 8 9 10 11\n",
      "12 1 2 3 4 5 6 7 8 9 10 11 12\n",
      "-1 0 1 2 3 4 5 6 7 8 9 -1\n"
     ]
    }
   ],
   "source": [
    "#Uses python2\n",
    "y=raw_input(\"\").split()\n",
    "n=int(y[0])\n",
    "del y[0]\n",
    "z=raw_input(\"\").split()\n",
    "n2=int(z[0])\n",
    "del z[0]\n",
    "answer=list()\n",
    "for i in z:\n",
    "    high=n-1\n",
    "    low=0\n",
    "    k=-1\n",
    "    while (high>low)or(high==low):\n",
    "        mid=int(round(float(high+low)/2))\n",
    "        if int(i)==int(y[mid]):\n",
    "            k=mid\n",
    "            break\n",
    "        if int(i)>int(y[mid]):\n",
    "            low=mid+1\n",
    "        else:\n",
    "            high=mid-1\n",
    "    answer.append(str(k))\n",
    "print(\" \" . join(answer))"
   ]
  },
  {
   "cell_type": "code",
   "execution_count": null,
   "metadata": {
    "collapsed": true
   },
   "outputs": [],
   "source": [
    "#bin search\n",
    "a=map(int,raw_input(\"\").split())\n",
    "b=map(int,raw_input(\"\").split())\n",
    "n=a[0]\n",
    "del a[0]\n",
    "def binary_search(a, x, lo=0, hi=None):\n",
    "    if hi is None:\n",
    "        hi = len(a)\n",
    "    while lo < hi:\n",
    "        mid = (lo+hi)//2\n",
    "        midval = a[mid]\n",
    "        if midval < x:\n",
    "            lo = mid+1\n",
    "        elif midval > x: \n",
    "            hi = mid\n",
    "        else:\n",
    "            return mid\n",
    "    return -1\n",
    "answer=list()\n",
    "for i in b:\n",
    "    answer.append(binary_search(a, i))\n",
    "print answer"
   ]
  },
  {
   "cell_type": "markdown",
   "metadata": {},
   "source": [
    "2 Problem: Finding a Majority Element\n",
    "Problem Introduction\n",
    "Majority rule is a decision rule that selects the alternative which has a majority,\n",
    "that is, more than half the votes.\n"
   ]
  },
  {
   "cell_type": "code",
   "execution_count": 20,
   "metadata": {
    "scrolled": true
   },
   "outputs": [
    {
     "name": "stdout",
     "output_type": "stream",
     "text": [
      "4\n",
      "1 2 3 1\n",
      "0\n"
     ]
    }
   ],
   "source": [
    "n=int(raw_input(''))\n",
    "y=map(int,raw_input(\"\").split())\n",
    "\n",
    "\n",
    "def get_majority_element(a, left, right):\n",
    "    if left == right:\n",
    "        return -1\n",
    "    if left + 1 == right:\n",
    "        return a[left]\n",
    "\n",
    "    left_m = get_majority_element(a, left, (left + right - 1)//2 + 1)\n",
    "    right_m = get_majority_element(a, (left + right - 1)//2 + 1, right)\n",
    "    left_count = 0\n",
    "    for i in range(left, right):\n",
    "        if a[i] == left_m:\n",
    "            left_count += 1\n",
    "    if left_count > (right-left)//2:\n",
    "        return left_m\n",
    "\n",
    "    right_count = 0\n",
    "    for i in range(left, right):\n",
    "        if a[i] == right_m:\n",
    "            right_count += 1\n",
    "    if right_count > (right-left)//2:\n",
    "        return right_m\n",
    "\n",
    "    return -1\n",
    "if get_majority_element(y, 0, n)!=-1:\n",
    "    print 1\n",
    "else:\n",
    "    print 0"
   ]
  },
  {
   "cell_type": "code",
   "execution_count": null,
   "metadata": {
    "collapsed": true
   },
   "outputs": [],
   "source": [
    "# majority element\n",
    "n=int(raw_input(\"\"))\n",
    "a=map(int,raw_input(\"\").split())\n",
    "def get_majority_element(a, left, right):\n",
    "    if left == right:\n",
    "        return -1\n",
    "    if left + 1 == right:\n",
    "        return a[left]\n",
    "\n",
    "    left_m = get_majority_element(a, left, (left + right - 1)//2 + 1)\n",
    "    right_m = get_majority_element(a, (left + right - 1)//2 + 1, right)\n",
    "    left_count = 0\n",
    "    for i in range(left, right):\n",
    "        if a[i] == left_m:\n",
    "            left_count += 1\n",
    "    if left_count > (right-left)//2:\n",
    "        return left_m\n",
    "\n",
    "    right_count = 0\n",
    "    for i in range(left, right):\n",
    "        if a[i] == right_m:\n",
    "            right_count += 1\n",
    "    if right_count > (right-left)//2:\n",
    "        return right_m\n",
    "\n",
    "    return -1\n",
    "get_majority_element(a,0, len(a))"
   ]
  },
  {
   "cell_type": "markdown",
   "metadata": {},
   "source": [
    "3 Problem: Improving Quick Sort\n",
    "Problem Introduction\n",
    "The goal in this problem is to redesign a given implementation of the randomized\n",
    "quick sort algorithm so that it works fast even on sequences containing\n",
    "many equal elements.\n"
   ]
  },
  {
   "cell_type": "code",
   "execution_count": null,
   "metadata": {
    "collapsed": true
   },
   "outputs": [],
   "source": [
    "#quick sort improvment\n",
    "n=int(raw_input(\"\"))\n",
    "a=map(int,raw_input(\"\").split())\n",
    "def quick_sort(a):\n",
    "    d={}\n",
    "    for i in a:\n",
    "        if i in d:\n",
    "            d[i]+=1\n",
    "        else:\n",
    "            d[i]=1\n",
    "    answer=list()\n",
    "    while len(d)>0:\n",
    "        k=min(d)\n",
    "        for j in range(d[k]):\n",
    "            answer.append(k)\n",
    "        del d[k]\n",
    "    return answer\n",
    "quick_sort(a)    "
   ]
  },
  {
   "cell_type": "code",
   "execution_count": 21,
   "metadata": {},
   "outputs": [
    {
     "name": "stdout",
     "output_type": "stream",
     "text": [
      "5\n",
      "2 3 9 2 2\n",
      "2 2 2 3 9\n"
     ]
    }
   ],
   "source": [
    "#Uses python2\n",
    "def quickSort(alist):\n",
    "   quickSortHelper(alist,0,len(alist)-1)\n",
    "\n",
    "def quickSortHelper(alist,first,last):\n",
    "   if first<last:\n",
    "\n",
    "       splitpoint = partition(alist,first,last)\n",
    "\n",
    "       quickSortHelper(alist,first,splitpoint-1)\n",
    "       quickSortHelper(alist,splitpoint+1,last)\n",
    "\n",
    "\n",
    "def partition(alist,first,last):\n",
    "   pivotvalue = alist[first]\n",
    "\n",
    "   leftmark = first+1\n",
    "   rightmark = last\n",
    "\n",
    "   done = False\n",
    "   while not done:\n",
    "\n",
    "       while leftmark <= rightmark and alist[leftmark] <= pivotvalue:\n",
    "           leftmark = leftmark + 1\n",
    "\n",
    "       while alist[rightmark] >= pivotvalue and rightmark >= leftmark:\n",
    "           rightmark = rightmark -1\n",
    "\n",
    "       if rightmark < leftmark:\n",
    "           done = True\n",
    "       else:\n",
    "           temp = alist[leftmark]\n",
    "           alist[leftmark] = alist[rightmark]\n",
    "           alist[rightmark] = temp\n",
    "\n",
    "   temp = alist[first]\n",
    "   alist[first] = alist[rightmark]\n",
    "   alist[rightmark] = temp\n",
    "\n",
    "\n",
    "   return rightmark\n",
    "n=int(raw_input(\"\"))\n",
    "a = raw_input(\"\").split()\n",
    "alist=map(int,a)\n",
    "quickSort(alist)\n",
    "sarr = [str(a) for a in alist]\n",
    "print(\" \" . join(sarr))\n",
    "\n",
    "def "
   ]
  },
  {
   "cell_type": "markdown",
   "metadata": {},
   "source": [
    "mergesort implementation"
   ]
  },
  {
   "cell_type": "code",
   "execution_count": 10,
   "metadata": {},
   "outputs": [
    {
     "name": "stdout",
     "output_type": "stream",
     "text": [
      "[17, 20, 26, 31, 44, 54, 55, 77, 93]\n"
     ]
    }
   ],
   "source": [
    "def mergesort(a):\n",
    "    while len(a)>1:\n",
    "        mid=len(a)/2\n",
    "        left=a[:mid]\n",
    "        right=a[mid:]\n",
    "        \n",
    "        mergesort(left)\n",
    "        mergesort(right)\n",
    "        \n",
    "        i=0\n",
    "        j=0\n",
    "        k=0\n",
    "        while i<len(left) and j<len(right):\n",
    "            if left[i]<right[j]:\n",
    "                a[k]=left[i]\n",
    "                i=i+1\n",
    "            else:\n",
    "                a[k]=right[j]\n",
    "                j=j+1\n",
    "            k=k+1\n",
    "        while i<len(left):\n",
    "            a[k]=left[i]\n",
    "            i=i+1\n",
    "            k=k+1\n",
    "        while j<len(right):\n",
    "            a[k]=right[j]\n",
    "            j=j+1\n",
    "            k=k+1\n",
    "        return a\n",
    "alist = [54,26,93,17,77,31,44,55,20]\n",
    "mergesort(alist)\n",
    "print(alist)"
   ]
  },
  {
   "cell_type": "markdown",
   "metadata": {},
   "source": [
    "## Week 5 Dynamic Programming\n"
   ]
  },
  {
   "cell_type": "markdown",
   "metadata": {},
   "source": [
    "1 Problem: Primitive Calculator\n",
    "Problem Introduction\n",
    "You are given a primitive calculator that can perform the following three operations with the current number\n",
    "x: multiply x by 2, multiply x by 3, or add 1 to x. Your goal is given a positive integer n, find the\n",
    "minimum number of operations needed to obtain the number n starting from the number 1.\n",
    "Problem Description\n",
    "Task. Given an integer n, compute the minimum number of operations needed to obtain the number n\n",
    "starting from the number 1.\n",
    "Input Format. The input consists of a single integer 1 ≤ n ≤ 106\n",
    ".\n",
    "Output Format. In the first line, output the minimum number k of operations needed to get n from 1.\n",
    "In the second line output a sequence of intermediate numbers. That is, the second line should contain\n",
    "positive integers a0, a2, . . . , ak−1 such that a0 = 1, ak−1 = n and for all 0 ≤ i < k − 1, ai+1 is equal to\n",
    "either ai + 1, 2ai\n",
    ", or 3ai\n",
    ". If there are many such sequences, output any one of them.\n"
   ]
  },
  {
   "cell_type": "code",
   "execution_count": null,
   "metadata": {
    "collapsed": true
   },
   "outputs": [],
   "source": [
    "#primitive calculator\n",
    "n=int(raw_input(\"\"))\n",
    "def calc(n):\n",
    "    if n==0:\n",
    "        return 1\n",
    "    else:\n",
    "        d={}\n",
    "        for i in range(1,n+1):\n",
    "            d[i]=[]\n",
    "            if i==1:\n",
    "                d[i].append(1)\n",
    "                d[i].append(0)\n",
    "            else:\n",
    "                if (i%3==0)&(i%2==0):\n",
    "                    c=[d[i/3][0],d[i/2][0],d[i-1][0]]\n",
    "                    d[i].append(min(c)+1)\n",
    "                    if c.index(min(c))==0:\n",
    "                        d[i].append(i/3)\n",
    "                    if c.index(min(c))==1:\n",
    "                        d[i].append(i/2)\n",
    "                    else:\n",
    "                        d[i].append(i-1)\n",
    "                elif i%3==0:\n",
    "                    c=[d[i/3][0],d[i-1][0]]\n",
    "                    d[i].append(min(c)+1)\n",
    "                    if c.index(min(c))==0:\n",
    "                        d[i].append(i/3)\n",
    "                    else:\n",
    "                        d[i].append(i-1)\n",
    "                elif i%2==0:\n",
    "                    c=[d[i/2][0],d[i-1][0]]\n",
    "                    d[i].append(min(c)+1)\n",
    "                    if c.index(min(c))==0:\n",
    "                        d[i].append(i/2)\n",
    "                    else:\n",
    "                        d[i].append(i-1)\n",
    "                else:\n",
    "                    d[i].append(d[i-1][0]+1)\n",
    "                    d[i].append(i-1)\n",
    "        count=n\n",
    "        answer=list()\n",
    "        while count>0:\n",
    "            answer.append(count)\n",
    "            count=d[count][1]\n",
    "        return answer[::-1]\n",
    "answer=calc(n)"
   ]
  },
  {
   "cell_type": "code",
   "execution_count": null,
   "metadata": {},
   "outputs": [],
   "source": [
    "# the real optimal coins alg\n",
    "x=int(raw_input(\"\"))\n",
    "z=[5,10,20,25]\n",
    "def opt(x,z):\n",
    "    if x==0:\n",
    "        return 0\n",
    "    min_coins=100000000\n",
    "    num_coins=0\n",
    "    for i in z:\n",
    "        if x>i:\n",
    "            num_coins=opt(x-i,z)\n",
    "            if num_coins+1<min_coins:\n",
    "                min_coins=num_coins+1\n",
    "    return min_coins\n",
    "opt(x,z)           "
   ]
  },
  {
   "cell_type": "markdown",
   "metadata": {},
   "source": [
    "2 Problem: Take as Much Gold as Possible\n",
    "Problem Introduction\n",
    "This problem is about implementing an algorithm for the knapsack without repetitions problem.\n",
    "Problem Description\n",
    "Task. In this problem, you are given a set of bars of gold and your goal is to take as much gold as possible\n",
    "into your bag. There is just one copy of each bar and for each bar you can either take it or not (hence\n",
    "you cannot take a fraction of a bar).\n",
    "Input Format. The first line of the input contains the capacity W of a knapsack and the number n of bars\n",
    "of gold. The next line contains n integers w0, w1, . . . , wn−1 defining the weights of the bars of gold.\n",
    "Constraints. 1 ≤ W ≤ 104\n",
    "; 1 ≤ n ≤ 300; 0 ≤ w0, . . . , wn−1 ≤ 105\n",
    ".\n",
    "Output Format. Output the maximum weight of gold that fits into a knapsack of capacity W."
   ]
  },
  {
   "cell_type": "code",
   "execution_count": null,
   "metadata": {
    "collapsed": true
   },
   "outputs": [],
   "source": [
    "def optimal_weight(W, w):\n",
    "    c = [0] * (W+1)\n",
    "    for i in range(len(w)):\n",
    "        for j in range(W, w[i]-1, -1):\n",
    "            c[j] = max(c[j], c[j - w[i]] + w[i])\n",
    "    return c[W]\n",
    "a=map(int,raw_input(\"\").split())\n",
    "W=a[0]\n",
    "b=map(int,raw_input(\"\").split())\n",
    "optimal_weight(W,b)"
   ]
  },
  {
   "cell_type": "markdown",
   "metadata": {},
   "source": [
    "# 2-nd course https://www.coursera.org/learn/data-structures/home/welcome"
   ]
  },
  {
   "cell_type": "markdown",
   "metadata": {},
   "source": [
    "## Programming Assignment 1: Basic Data Structures"
   ]
  },
  {
   "cell_type": "markdown",
   "metadata": {},
   "source": [
    "Problem: Check brackets in the code\n",
    "Problem Introduction\n",
    "In this problem you will implement a feature for a text editor to find errors in the usage of brackets in the\n",
    "code.\n",
    "Problem Description\n",
    "Task. Your friend is making a text editor for programmers. He is currently working on a feature that will\n",
    "find errors in the usage of different types of brackets. Code can contain any brackets from the set\n",
    "[]{}(), where the opening brackets are [,{, and ( and the closing brackets corresponding to them\n",
    "are ],}, and ).\n",
    "For convenience, the text editor should not only inform the user that there is an error in the usage\n",
    "of brackets, but also point to the exact place in the code with the problematic bracket. First priority\n",
    "is to find the first unmatched closing bracket which either doesn’t have an opening bracket before it,\n",
    "like ] in ](), or closes the wrong opening bracket, like } in ()[}. If there are no such mistakes, then\n",
    "it should find the first unmatched opening bracket without the corresponding closing bracket after it,\n",
    "like ( in {}([]. If there are no mistakes, text editor should inform the user that the usage of brackets\n",
    "is correct.\n",
    "Apart from the brackets, code can contain big and small latin letters, digits and punctuation marks.\n",
    "More formally, all brackets in the code should be divided into pairs of matching brackets, such that in\n",
    "each pair the opening bracket goes before the closing bracket, and for any two pairs of brackets either\n",
    "one of them is nested inside another one as in (foo[bar]) or they are separate as in f(a,b)-g[c].\n",
    "The bracket [ corresponds to the bracket ], { corresponds to }, and ( corresponds to ).\n",
    "Input Format. Input contains one string 𝑆 which consists of big and small latin letters, digits, punctuation\n",
    "marks and brackets from the set []{}().\n",
    "Constraints. The length of 𝑆 is at least 1 and at most 105\n",
    ".\n",
    "Output Format. If the code in 𝑆 uses brackets correctly, output “Success\" (without the quotes). Otherwise,\n",
    "output the 1-based index of the first unmatched closing bracket, and if there are no unmatched closing\n",
    "brackets, output the 1-based index of the first unmatched opening bracket.\n"
   ]
  },
  {
   "cell_type": "code",
   "execution_count": null,
   "metadata": {
    "collapsed": true
   },
   "outputs": [],
   "source": [
    "s=raw_input(\"\")\n",
    "def success(s):\n",
    "    d=[]\n",
    "    ti=[]\n",
    "    for i in range(len(s)):\n",
    "        if s[i] in ['(','[','{']:\n",
    "            d.append(s[i])\n",
    "            ti.append(i)\n",
    "        if s[i]==')':\n",
    "            if len(d)==0:\n",
    "                return i+1\n",
    "            else:\n",
    "                dTop=d.pop()\n",
    "                if dTop!='(':\n",
    "                    return i+1\n",
    "                else:\n",
    "                    ti.pop()\n",
    "        if s[i]==']':\n",
    "            if len(d)==0:\n",
    "                return i+1\n",
    "            else:\n",
    "                dTop=d.pop()\n",
    "                if dTop!='[':\n",
    "                    return i+1\n",
    "                else:\n",
    "                    ti.pop()\n",
    "        if s[i]=='}':\n",
    "            if len(d)==0:\n",
    "                return i+1\n",
    "            else:\n",
    "                dTop=d.pop()\n",
    "                if dTop!='{':\n",
    "                    return i+1\n",
    "                else:\n",
    "                    ti.pop()\n",
    "    if len(d)==0:\n",
    "        return 'Success'\n",
    "    else:\n",
    "        return ti[0]+1\n",
    "success(s)"
   ]
  },
  {
   "cell_type": "markdown",
   "metadata": {},
   "source": [
    "2 Problem: Compute tree height\n",
    "Problem Introduction\n",
    "Trees are used to manipulate hierarchical data such as hierarchy of categories of a retailer or the directory\n",
    "structure on your computer. They are also used in data analysis and machine learning both for hierarchical\n",
    "clustering and building complex predictive models, including some of the best-performing in practice\n",
    "algorithms like Gradient Boosting over Decision Trees and Random Forests. In the later modules of this\n",
    "course, we will introduce balanced binary search trees (BST) — a special kind of trees that allows to very\n",
    "efficiently store, manipulate and retrieve data. Balanced BSTs are thus used in databases for efficient storage\n",
    "and actually in virtually any non-trivial programs, typically via built-in data structures of the programming\n",
    "language at hand.\n",
    "In this problem, your goal is to get used to trees. You will need to read a description of a tree from the\n",
    "input, implement the tree data structure, store the tree and compute its height.\n",
    "Problem Description\n",
    "Task. You are given a description of a rooted tree. Your task is to compute and output its height. Recall\n",
    "that the height of a (rooted) tree is the maximum depth of a node, or the maximum distance from a\n",
    "leaf to the root. You are given an arbitrary tree, not necessarily a binary tree.\n",
    "Input Format. The first line contains the number of nodes 𝑛. The second line contains 𝑛 integer numbers\n",
    "from −1 to 𝑛 − 1 — parents of nodes. If the 𝑖-th one of them (0 ≤ 𝑖 ≤ 𝑛 − 1) is −1, node 𝑖 is the root,\n",
    "otherwise it’s 0-based index of the parent of 𝑖-th node. It is guaranteed that there is exactly one root.\n",
    "It is guaranteed that the input represents a tree.\n",
    "Constraints. 1 ≤ 𝑛 ≤ 105\n",
    ".\n",
    "Output Format. Output the height of the tree.\n"
   ]
  },
  {
   "cell_type": "code",
   "execution_count": null,
   "metadata": {
    "collapsed": true
   },
   "outputs": [],
   "source": [
    "n=int(raw_input(\"\"))\n",
    "a=map(int,raw_input(\"\").split())\n",
    "def height(a,d=[-1]):\n",
    "    if len(d)==0:\n",
    "        return 0\n",
    "    else:\n",
    "        z=list()\n",
    "        for i in range(len(a)):\n",
    "            if a[i] in d:\n",
    "                z.append(i)\n",
    "    return height(a,z)+1\n",
    "print(height(a)-1)"
   ]
  },
  {
   "cell_type": "markdown",
   "metadata": {},
   "source": [
    "## Programming Assignment 2:Priority Queues and Disjoint Sets"
   ]
  },
  {
   "cell_type": "markdown",
   "metadata": {},
   "source": [
    "Problem: Convert array into heap\n",
    "Problem Introduction\n",
    "In this problem you will convert an array of integers into a heap. This is the crucial step of the sorting\n",
    "algorithm called HeapSort. It has guaranteed worst-case running time of 𝑂(𝑛 log 𝑛) as opposed to QuickSort’s\n",
    "average running time of 𝑂(𝑛 log 𝑛). QuickSort is usually used in practice, because typically it is faster, but\n",
    "HeapSort is used for external sort when you need to sort huge files that don’t fit into memory of your\n",
    "computer.\n",
    "Problem Description\n",
    "Task. The first step of the HeapSort algorithm is to create a heap from the array you want to sort. By the\n",
    "way, did you know that algorithms based on Heaps are widely used for external sort, when you need\n",
    "to sort huge files that don’t fit into memory of a computer?\n",
    "Your task is to implement this first step and convert a given array of integers into a heap. You will\n",
    "do that by applying a certain number of swaps to the array. Swap is an operation which exchanges\n",
    "elements 𝑎𝑖 and 𝑎𝑗 of the array 𝑎 for some 𝑖 and 𝑗. You will need to convert the array into a heap\n",
    "using only 𝑂(𝑛) swaps, as was described in the lectures. Note that you will need to use a min-heap\n",
    "instead of a max-heap in this problem.\n",
    "Input Format. The first line of the input contains single integer 𝑛. The next line contains 𝑛 space-separated\n",
    "integers 𝑎𝑖\n",
    ".\n",
    "Constraints. 1 ≤ 𝑛 ≤ 100 000; 0 ≤ 𝑖, 𝑗 ≤ 𝑛 − 1; 0 ≤ 𝑎0, 𝑎1, . . . , 𝑎𝑛−1 ≤ 109\n",
    ". All 𝑎𝑖 are distinct.\n",
    "Output Format. The first line of the output should contain single integer 𝑚 — the total number of swaps.\n",
    "𝑚 must satisfy conditions 0 ≤ 𝑚 ≤ 4𝑛. The next 𝑚 lines should contain the swap operations used\n",
    "to convert the array 𝑎 into a heap. Each swap is described by a pair of integers 𝑖, 𝑗 — the 0-based\n",
    "indices of the elements to be swapped. After applying all the swaps in the specified order the array\n",
    "must become a heap, that is, for each 𝑖 where 0 ≤ 𝑖 ≤ 𝑛 − 1 the following conditions must be true:\n",
    "1. If 2𝑖 + 1 ≤ 𝑛 − 1, then 𝑎𝑖 < 𝑎2𝑖+1.\n",
    "2. If 2𝑖 + 2 ≤ 𝑛 − 1, then 𝑎𝑖 < 𝑎2𝑖+2.\n",
    "Note that all the elements of the input array are distinct. Note that any sequence of swaps that has\n",
    "length at most 4𝑛 and after which your initial array becomes a correct heap will be graded as correct.\n"
   ]
  },
  {
   "cell_type": "code",
   "execution_count": null,
   "metadata": {
    "collapsed": true
   },
   "outputs": [],
   "source": [
    "n=int(raw_input(\"\"))\n",
    "a=map(int,raw_input(\"\").split())\n",
    "count=0\n",
    "for i in range(1,n)[::-1]:\n",
    "    node=i\n",
    "    parent=(i-1)/2\n",
    "    while a[node]<a[parent]:\n",
    "        z=a[parent]\n",
    "        a[parent]=a[node]\n",
    "        a[node]=z\n",
    "        print(str(parent)+\" \"+str(node))\n",
    "        count+=1\n",
    "        node=parent\n",
    "        parent=node/2\n",
    "count"
   ]
  },
  {
   "cell_type": "markdown",
   "metadata": {},
   "source": [
    "2 Problem: Parallel processing\n",
    "Problem Introduction\n",
    "In this problem you will simulate a program that processes a list of jobs in parallel. Operating systems such\n",
    "as Linux, MacOS or Windows all have special programs in them called schedulers which do exactly this with\n",
    "the programs on your computer.\n",
    "Problem Description\n",
    "Task. You have a program which is parallelized and uses 𝑛 independent threads to process the given list\n",
    "of 𝑚 jobs. Threads take jobs in the order they are given in the input. If there is a free thread,\n",
    "it immediately takes the next job from the list. If a thread has started processing a job, it doesn’t\n",
    "interrupt or stop until it finishes processing the job. If several threads try to take jobs from the list\n",
    "simultaneously, the thread with smaller index takes the job. For each job you know exactly how long\n",
    "will it take any thread to process this job, and this time is the same for all the threads. You need to\n",
    "determine for each job which thread will process it and when will it start processing.\n",
    "Input Format. The first line of the input contains integers 𝑛 and 𝑚.\n",
    "The second line contains 𝑚 integers 𝑡𝑖 — the times in seconds it takes any thread to process 𝑖-th job.\n",
    "The times are given in the same order as they are in the list from which threads take jobs.\n",
    "Threads are indexed starting from 0.\n",
    "Constraints. 1 ≤ 𝑛 ≤ 105\n",
    "; 1 ≤ 𝑚 ≤ 105\n",
    "; 0 ≤ 𝑡𝑖 ≤ 109\n",
    ".\n",
    "Output Format. Output exactly 𝑚 lines. 𝑖-th line (0-based index is used) should contain two spaceseparated\n",
    "integers — the 0-based index of the thread which will process the 𝑖-th job and the time in\n",
    "seconds when it will start processing that job."
   ]
  },
  {
   "cell_type": "code",
   "execution_count": null,
   "metadata": {
    "collapsed": true
   },
   "outputs": [],
   "source": [
    "a=map(int,raw_input(\"\").split())\n",
    "n=a[1]\n",
    "m=a[0]\n",
    "b=map(int,raw_input(\"\").split())\n",
    "d=list()\n",
    "answer=list()\n",
    "for i in range(m):\n",
    "    d.append(0)\n",
    "for i in b:\n",
    "    t=d.index(min(d))\n",
    "    p=d[t]\n",
    "    print(str(t)+\" \"+str(p))\n",
    "    d[t]+=i\n"
   ]
  },
  {
   "cell_type": "markdown",
   "metadata": {},
   "source": [
    "3 Problem: Merging tables\n",
    "Problem Introduction\n",
    "In this problem, your goal is to simulate a sequence of merge operations with tables in a database.\n",
    "Problem Description\n",
    "Task. There are 𝑛 tables stored in some database. The tables are numbered from 1 to 𝑛. All tables share\n",
    "the same set of columns. Each table contains either several rows with real data or a symbolic link to\n",
    "another table. Initially, all tables contain data, and 𝑖-th table has 𝑟𝑖 rows. You need to perform 𝑚 of\n",
    "the following operations:\n",
    "1. Consider table number 𝑑𝑒𝑠𝑡𝑖𝑛𝑎𝑡𝑖𝑜𝑛𝑖\n",
    ". Traverse the path of symbolic links to get to the data. That\n",
    "is,\n",
    "while 𝑑𝑒𝑠𝑡𝑖𝑛𝑎𝑡𝑖𝑜𝑛𝑖 contains a symbolic link instead of real data do\n",
    "𝑑𝑒𝑠𝑡𝑖𝑛𝑎𝑡𝑖𝑜𝑛𝑖 ← symlink(𝑑𝑒𝑠𝑡𝑖𝑛𝑎𝑡𝑖𝑜𝑛𝑖)\n",
    "2. Consider the table number 𝑠𝑜𝑢𝑟𝑐𝑒𝑖 and traverse the path of symbolic links from it in the same\n",
    "manner as for 𝑑𝑒𝑠𝑡𝑖𝑛𝑎𝑡𝑖𝑜𝑛𝑖\n",
    ".\n",
    "3. Now, 𝑑𝑒𝑠𝑡𝑖𝑛𝑎𝑡𝑖𝑜𝑛𝑖 and 𝑠𝑜𝑢𝑟𝑐𝑒𝑖 are the numbers of two tables with real data. If 𝑑𝑒𝑠𝑡𝑖𝑛𝑎𝑡𝑖𝑜𝑛𝑖 ̸=\n",
    "𝑠𝑜𝑢𝑟𝑐𝑒𝑖\n",
    ", copy all the rows from table 𝑠𝑜𝑢𝑟𝑐𝑒𝑖 to table 𝑑𝑒𝑠𝑡𝑖𝑛𝑎𝑡𝑖𝑜𝑛𝑖\n",
    ", then clear the table 𝑠𝑜𝑢𝑟𝑐𝑒𝑖\n",
    "and instead of real data put a symbolic link to 𝑑𝑒𝑠𝑡𝑖𝑛𝑎𝑡𝑖𝑜𝑛𝑖\n",
    "into it.\n",
    "4. Print the maximum size among all 𝑛 tables (recall that size is the number of rows in the table).\n",
    "If the table contains only a symbolic link, its size is considered to be 0.\n",
    "See examples and explanations for further clarifications.\n",
    "Input Format. The first line of the input contains two integers 𝑛 and 𝑚 — the number of tables in the\n",
    "database and the number of merge queries to perform, respectively.\n",
    "The second line of the input contains 𝑛 integers 𝑟𝑖 — the number of rows in the 𝑖-th table.\n",
    "Then follow 𝑚 lines describing merge queries. Each of them contains two integers 𝑑𝑒𝑠𝑡𝑖𝑛𝑎𝑡𝑖𝑜𝑛𝑖 and\n",
    "𝑠𝑜𝑢𝑟𝑐𝑒𝑖 — the numbers of the tables to merge.\n",
    "Constraints. 1 ≤ 𝑛, 𝑚 ≤ 100 000; 0 ≤ 𝑟𝑖 ≤ 10 000; 1 ≤ 𝑑𝑒𝑠𝑡𝑖𝑛𝑎𝑡𝑖𝑜𝑛𝑖\n",
    ", 𝑠𝑜𝑢𝑟𝑐𝑒𝑖 ≤ 𝑛.\n",
    "Output Format. For each query print a line containing a single integer — the maximum of the sizes of all\n",
    "tables (in terms of the number of rows) after the corresponding operation."
   ]
  },
  {
   "cell_type": "code",
   "execution_count": null,
   "metadata": {
    "collapsed": true
   },
   "outputs": [],
   "source": [
    "a=map(int,raw_input(\"\").split())\n",
    "size=map(int,raw_input(\"\").split())\n",
    "n=a[0]\n",
    "m=a[1]\n",
    "merges=list()\n",
    "for i in range(m):\n",
    "    merges.append(map(int,raw_input(\"\").split()))\n",
    "links=list()\n",
    "for i in range(n):\n",
    "    links.append(i)\n",
    "max_len=max(size)\n",
    "for i in merges:\n",
    "    if i[0]!=i[1]:\n",
    "        if size[i[0]-1]==0:\n",
    "            z0=i[0]-1\n",
    "            while z0!=links[z0]:\n",
    "                z0=links[z0]\n",
    "            sz0=size[z0]\n",
    "        else:\n",
    "            sz0=size[i[0]-1]\n",
    "            z0=i[0]-1\n",
    "        if size[i[1]-1]==0:\n",
    "            z1=i[1]-1\n",
    "            while z1!=links[z1]:\n",
    "                z1=links[z1]\n",
    "            sz1=size[z1]\n",
    "        else:\n",
    "            sz1=size[i[1]-1]\n",
    "            z1=i[1]-1\n",
    "        size[z0]=sz0+sz1\n",
    "        size[z1]=0\n",
    "        links[z1]=z0\n",
    "        if max_len<size[z0]:\n",
    "            max_len=size[z0]\n",
    "    print max_len"
   ]
  }
 ],
 "metadata": {
  "kernelspec": {
   "display_name": "Python 2",
   "language": "python",
   "name": "python2"
  },
  "language_info": {
   "codemirror_mode": {
    "name": "ipython",
    "version": 2
   },
   "file_extension": ".py",
   "mimetype": "text/x-python",
   "name": "python",
   "nbconvert_exporter": "python",
   "pygments_lexer": "ipython2",
   "version": "2.7.13"
  }
 },
 "nbformat": 4,
 "nbformat_minor": 2
}
