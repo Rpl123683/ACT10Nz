{
 "cells": [
  {
   "cell_type": "code",
   "execution_count": 194,
   "metadata": {
    "collapsed": true
   },
   "outputs": [],
   "source": [
    "import networkx as nx\n",
    "import matplotlib.pyplot as plt\n",
    "plt.xkcd()\n",
    "import numpy as np\n",
    "%matplotlib inline\n",
    "import matplotlib.pyplot as plt\n",
    "from scipy.stats import mode\n",
    "from scipy import optimize\n",
    "import statsmodels.api as sm\n",
    "from scipy import stats"
   ]
  },
  {
   "cell_type": "markdown",
   "metadata": {},
   "source": [
    "### Task 1."
   ]
  },
  {
   "cell_type": "markdown",
   "metadata": {},
   "source": [
    "Load [wordcounts](http://www.leonidzhukov.net/hse/2015/networks/data/wordcounts.txt) dataset. \n",
    "1. Check that Zipf's Law holds\n",
    "2. Assuming that the data is distributed according to the Power Law, find\n",
    " * $\\alpha$ of the distribution\n",
    " * mean sample variance $\\sigma^2$\n",
    "3. Produce summary of the frequencies: min, max, mean, median"
   ]
  },
  {
   "cell_type": "code",
   "execution_count": 3,
   "metadata": {},
   "outputs": [],
   "source": [
    "wordcounts = np.array(list(np.loadtxt('wordcounts.txt', dtype = 'int32, a20')))\n",
    "fr_w=list()\n",
    "for i in range(len(wordcounts)-1):\n",
    "    fr_w=np.append(fr_w,list(wordcounts[i])[0])"
   ]
  },
  {
   "cell_type": "markdown",
   "metadata": {},
   "source": [
    "Check that Zipf's Law holds. We will use only part of our data because it was already sorted and if we plot directly we will have plot that will be hard to interpret. Anyway all other waluse will go farther through the tale. After ploting it looks like power law."
   ]
  },
  {
   "cell_type": "code",
   "execution_count": 25,
   "metadata": {},
   "outputs": [
    {
     "data": {
      "text/plain": [
       "[<matplotlib.lines.Line2D at 0xd9934e0>]"
      ]
     },
     "execution_count": 25,
     "metadata": {},
     "output_type": "execute_result"
    },
    {
     "data": {
      "image/png": "[encoded data removed]",
      "text/plain": [
       "<matplotlib.figure.Figure at 0xd72eef0>"
      ]
     },
     "metadata": {},
     "output_type": "display_data"
    }
   ],
   "source": [
    "plt.plot(fr_w[0:(len(fr_w)-1)/30])"
   ]
  },
  {
   "cell_type": "markdown",
   "metadata": {},
   "source": [
    "To estimate $\\alpha$ we will use Max Liklehood approach it was already calculated in lecture 2 so we will just use the result of maximization."
   ]
  },
  {
   "cell_type": "code",
   "execution_count": 26,
   "metadata": {},
   "outputs": [
    {
     "name": "stdout",
     "output_type": "stream",
     "text": [
      "alpha 1.71930376212\n",
      "sigma_sq 0.0090501732544\n"
     ]
    }
   ],
   "source": [
    "alpha = 1 + len(fr_w)/np.sum(np.log(fr_w/min(fr_w)))\n",
    "sigma_sq = (alpha - 1)/np.sqrt(len(fr_w))\n",
    "print \"alpha\", alpha\n",
    "print \"sigma_sq\", sigma_sq"
   ]
  },
  {
   "cell_type": "markdown",
   "metadata": {},
   "source": [
    "Produce summary of the frequencies: min, max, mean, median"
   ]
  },
  {
   "cell_type": "code",
   "execution_count": 27,
   "metadata": {},
   "outputs": [
    {
     "name": "stdout",
     "output_type": "stream",
     "text": [
      "min 800.0\n",
      "max 6187267.0\n",
      "mean 13568.6917841\n",
      "median 2335.0\n"
     ]
    }
   ],
   "source": [
    "print 'min', min(fr_w)\n",
    "print 'max', max(fr_w)\n",
    "print 'mean', np.mean(fr_w)\n",
    "print 'median', np.median(fr_w)"
   ]
  },
  {
   "cell_type": "markdown",
   "metadata": {},
   "source": [
    "### Task 2"
   ]
  },
  {
   "cell_type": "code",
   "execution_count": 174,
   "metadata": {
    "collapsed": true
   },
   "outputs": [],
   "source": [
    "routing_network = np.loadtxt('network.txt', comments='#', dtype = 'int32,int32')\n",
    "G_rn = nx.Graph()\n",
    "G_rn.add_edges_from(routing_network)\n",
    "degrees_rn=np.array((G_rn.degree()).values())\n",
    "web_graph = np.loadtxt('web_Stanford.txt', comments='#', dtype = 'int32,int32')\n",
    "G_wg = nx.DiGraph()\n",
    "G_wg.add_edges_from(web_graph)\n",
    "degrees_in_wg=np.array((G_wg.in_degree()).values())\n",
    "degrees_out_wg=np.array((G_wg.out_degree()).values())"
   ]
  },
  {
   "cell_type": "markdown",
   "metadata": {},
   "source": [
    "1.Are they correspondent to power law? Histograms looks like powerlow (great amount of verticles with low degree and low amount with high degrees)."
   ]
  },
  {
   "cell_type": "code",
   "execution_count": 88,
   "metadata": {},
   "outputs": [
    {
     "data": {
      "text/plain": [
       "(array([ 466.,  165.,   92.,   61.,   40.,   27.,   12.,   13.,   10.,   14.]),\n",
       " array([ 10. ,  17.1,  24.2,  31.3,  38.4,  45.5,  52.6,  59.7,  66.8,\n",
       "         73.9,  81. ]),\n",
       " <a list of 10 Patch objects>)"
      ]
     },
     "execution_count": 88,
     "metadata": {},
     "output_type": "execute_result"
    },
    {
     "data": {
      "image/png": "[encoded data removed]",
      "text/plain": [
       "<matplotlib.figure.Figure at 0x570ea470>"
      ]
     },
     "metadata": {},
     "output_type": "display_data"
    }
   ],
   "source": [
    "degrees_rn=sorted(degrees_rn,reverse=True)\n",
    "plt.hist(degrees_rn[100:1000])"
   ]
  },
  {
   "cell_type": "code",
   "execution_count": 107,
   "metadata": {},
   "outputs": [
    {
     "data": {
      "text/plain": [
       "(array([  1.81500000e+03,   7.90000000e+01,   4.70000000e+01,\n",
       "          2.20000000e+01,   2.00000000e+00,   5.00000000e+00,\n",
       "          0.00000000e+00,   1.00000000e+00,   1.00000000e+00,\n",
       "          8.00000000e+00]),\n",
       " array([   79. ,   905.7,  1732.4,  2559.1,  3385.8,  4212.5,  5039.2,\n",
       "         5865.9,  6692.6,  7519.3,  8346. ]),\n",
       " <a list of 10 Patch objects>)"
      ]
     },
     "execution_count": 107,
     "metadata": {},
     "output_type": "execute_result"
    },
    {
     "data": {
      "image/png": "[encoded data removed]",
      "text/plain": [
       "<matplotlib.figure.Figure at 0x3bc6b080>"
      ]
     },
     "metadata": {},
     "output_type": "display_data"
    }
   ],
   "source": [
    "degrees_in_wg=sorted(degrees_in_wg,reverse=True)\n",
    "plt.hist(degrees_in_wg[20:2000])"
   ]
  },
  {
   "cell_type": "markdown",
   "metadata": {},
   "source": [
    "Find max and mean values of incoming and outcoming node degrees"
   ]
  },
  {
   "cell_type": "code",
   "execution_count": 93,
   "metadata": {},
   "outputs": [
    {
     "name": "stdout",
     "output_type": "stream",
     "text": [
      "4.21861255062 degrees_rn_mean\n",
      "2390 degrees_rn_max\n",
      "8.20316562789 degrees_in_wg_mean\n",
      "38606 degrees_in_wg_max\n",
      "8.20316562789 degrees_out_wg_mean\n",
      "255 degrees_out_wg_max\n"
     ]
    }
   ],
   "source": [
    "print np.mean(degrees_rn), \"degrees_rn_mean\"\n",
    "print np.max(degrees_rn), \"degrees_rn_max\"\n",
    "print np.mean(degrees_in_wg), \"degrees_in_wg_mean\"\n",
    "print np.max(degrees_in_wg), \"degrees_in_wg_max\"\n",
    "print np.mean(degrees_out_wg), \"degrees_out_wg_mean\"\n",
    "print np.max(degrees_out_wg), \"degrees_out_wg_max\""
   ]
  },
  {
   "cell_type": "markdown",
   "metadata": {},
   "source": [
    "Find $\\alpha$ via Maximum Likelihood and calculate $\\sigma^2$"
   ]
  },
  {
   "cell_type": "markdown",
   "metadata": {},
   "source": [
    "For the first graph"
   ]
  },
  {
   "cell_type": "code",
   "execution_count": 99,
   "metadata": {},
   "outputs": [
    {
     "name": "stdout",
     "output_type": "stream",
     "text": [
      "alpha_rn 2.43517175294\n",
      "sigma_rn 0.009470863233\n"
     ]
    }
   ],
   "source": [
    "alpha_rn = 1 + len(degrees_rn)/np.sum(np.log(degrees_rn/min(degrees_rn)))\n",
    "sigma_rn = (alpha_rn - 1)/np.sqrt(len(degrees_rn))\n",
    "print \"alpha_rn\", alpha_rn\n",
    "print \"sigma_rn\", sigma_rn"
   ]
  },
  {
   "cell_type": "markdown",
   "metadata": {},
   "source": [
    "For the second graph there was nodes with 0 degree so it was impossible to evaluate a. So we removed 0 and then evaluate optimal parameters. "
   ]
  },
  {
   "cell_type": "code",
   "execution_count": 141,
   "metadata": {},
   "outputs": [
    {
     "name": "stdout",
     "output_type": "stream",
     "text": [
      "alpha_in_wg 1.95412784401\n",
      "sigma_in_wg 0.00186551034276\n",
      "alpha_out_wg 1.62618016321\n",
      "sigma_out_wg 0.00117972827126\n"
     ]
    }
   ],
   "source": [
    "degrees_in_wg_ft=filter(lambda a: a >0, degrees_in_wg)\n",
    "degrees_out_wg_ft=filter(lambda a: a >0, degrees_out_wg)\n",
    "alpha_in_wg = 1 + len(degrees_in_wg_ft)/np.sum(np.log(degrees_in_wg_ft/min(degrees_in_wg_ft)))\n",
    "sigma_in_wg = (alpha_in_wg - 1)/np.sqrt(len(degrees_in_wg_ft))\n",
    "print \"alpha_in_wg\", alpha_in_wg\n",
    "print \"sigma_in_wg\", sigma_in_wg\n",
    "alpha_out_wg = 1 + len(degrees_out_wg_ft)/np.sum(np.log(degrees_out_wg_ft/min(degrees_out_wg_ft)))\n",
    "sigma_out_wg = (alpha_out_wg - 1)/np.sqrt(len(degrees_out_wg_ft))\n",
    "print \"alpha_out_wg\", alpha_out_wg\n",
    "print \"sigma_out_wg\", sigma_out_wg"
   ]
  },
  {
   "cell_type": "markdown",
   "metadata": {},
   "source": [
    "Determine $x_{min}$ via Kolmogorov-Smirnov test"
   ]
  },
  {
   "cell_type": "code",
   "execution_count": 134,
   "metadata": {},
   "outputs": [],
   "source": [
    "def f(xmin):\n",
    "    d = dict()\n",
    "    for i in degree:\n",
    "        if i not in d:\n",
    "            d[i] = 1\n",
    "        else:\n",
    "            d[i] += 1\n",
    "    res = list()\n",
    "    cs = 0\n",
    "    alpha = 1 + len(degree)/np.sum(np.log(degree/min(degree)))\n",
    "    for i,j in d.items():\n",
    "        cs += j\n",
    "        res.append(abs(cs/len(degree) - (1 - pow(i/xmin, - alpha + 1))))\n",
    "    return(max(res))"
   ]
  },
  {
   "cell_type": "code",
   "execution_count": 145,
   "metadata": {},
   "outputs": [
    {
     "name": "stdout",
     "output_type": "stream",
     "text": [
      "Optimization terminated successfully.\n",
      "         Current function value: 0.999972\n",
      "         Iterations: 24\n",
      "         Function evaluations: 48\n",
      "[ 1.62070313] X_min_rn\n"
     ]
    }
   ],
   "source": [
    "degree=degrees_rn\n",
    "result = optimize.fmin(f,0.5)\n",
    "print(result), \"X_min_rn\""
   ]
  },
  {
   "cell_type": "code",
   "execution_count": 146,
   "metadata": {},
   "outputs": [
    {
     "name": "stdout",
     "output_type": "stream",
     "text": [
      "Optimization terminated successfully.\n",
      "         Current function value: 0.999916\n",
      "         Iterations: 26\n",
      "         Function evaluations: 52\n",
      "[ 2.06757813] X_min_in_wg\n"
     ]
    }
   ],
   "source": [
    "degree=degrees_in_wg_ft\n",
    "result = optimize.fmin(f,0.5)\n",
    "print(result), \"X_min_in_wg\""
   ]
  },
  {
   "cell_type": "code",
   "execution_count": 147,
   "metadata": {},
   "outputs": [
    {
     "name": "stdout",
     "output_type": "stream",
     "text": [
      "Optimization terminated successfully.\n",
      "         Current function value: 0.938456\n",
      "         Iterations: 23\n",
      "         Function evaluations: 46\n",
      "[ 2.87773438] X_min_out_wg\n"
     ]
    }
   ],
   "source": [
    "degree=degrees_out_wg_ft\n",
    "result = optimize.fmin(f,0.5)\n",
    "print(result), \"X_min_out_wg\""
   ]
  },
  {
   "cell_type": "markdown",
   "metadata": {},
   "source": [
    "Try to fit Erdos model for the Web Graph and describe common and different points in their descriptive statistics"
   ]
  },
  {
   "cell_type": "code",
   "execution_count": 208,
   "metadata": {},
   "outputs": [],
   "source": [
    "# edge is direct so each only give +1 to nodes degree\n",
    "p=float(nx.number_of_edges(G_wg))/float(nx.number_of_nodes(G_wg)*(nx.number_of_nodes(G_wg)-1))"
   ]
  },
  {
   "cell_type": "code",
   "execution_count": 209,
   "metadata": {},
   "outputs": [
    {
     "ename": "KeyboardInterrupt",
     "evalue": "",
     "output_type": "error",
     "traceback": [
      "\u001b[1;31m---------------------------------------------------------------------------\u001b[0m",
      "\u001b[1;31mKeyboardInterrupt\u001b[0m                         Traceback (most recent call last)",
      "\u001b[1;32m<ipython-input-209-b64fa7b79cb1>\u001b[0m in \u001b[0;36m<module>\u001b[1;34m()\u001b[0m\n\u001b[1;32m----> 1\u001b[1;33m \u001b[0mt\u001b[0m\u001b[1;33m=\u001b[0m\u001b[0mnx\u001b[0m\u001b[1;33m.\u001b[0m\u001b[0merdos_renyi_graph\u001b[0m\u001b[1;33m(\u001b[0m\u001b[0mnx\u001b[0m\u001b[1;33m.\u001b[0m\u001b[0mnumber_of_nodes\u001b[0m\u001b[1;33m(\u001b[0m\u001b[0mG_wg\u001b[0m\u001b[1;33m)\u001b[0m\u001b[1;33m,\u001b[0m\u001b[0mp\u001b[0m\u001b[1;33m,\u001b[0m\u001b[0mdirected\u001b[0m\u001b[1;33m=\u001b[0m\u001b[0mTrue\u001b[0m\u001b[1;33m)\u001b[0m\u001b[1;33m\u001b[0m\u001b[0m\n\u001b[0m",
      "\u001b[1;32mC:\\Anaconda2\\lib\\site-packages\\networkx\\generators\\random_graphs.pyc\u001b[0m in \u001b[0;36mgnp_random_graph\u001b[1;34m(n, p, seed, directed)\u001b[0m\n\u001b[0;32m    177\u001b[0m \u001b[1;33m\u001b[0m\u001b[0m\n\u001b[0;32m    178\u001b[0m     \u001b[1;32mfor\u001b[0m \u001b[0me\u001b[0m \u001b[1;32min\u001b[0m \u001b[0medges\u001b[0m\u001b[1;33m:\u001b[0m\u001b[1;33m\u001b[0m\u001b[0m\n\u001b[1;32m--> 179\u001b[1;33m         \u001b[1;32mif\u001b[0m \u001b[0mrandom\u001b[0m\u001b[1;33m.\u001b[0m\u001b[0mrandom\u001b[0m\u001b[1;33m(\u001b[0m\u001b[1;33m)\u001b[0m \u001b[1;33m<\u001b[0m \u001b[0mp\u001b[0m\u001b[1;33m:\u001b[0m\u001b[1;33m\u001b[0m\u001b[0m\n\u001b[0m\u001b[0;32m    180\u001b[0m             \u001b[0mG\u001b[0m\u001b[1;33m.\u001b[0m\u001b[0madd_edge\u001b[0m\u001b[1;33m(\u001b[0m\u001b[1;33m*\u001b[0m\u001b[0me\u001b[0m\u001b[1;33m)\u001b[0m\u001b[1;33m\u001b[0m\u001b[0m\n\u001b[0;32m    181\u001b[0m     \u001b[1;32mreturn\u001b[0m \u001b[0mG\u001b[0m\u001b[1;33m\u001b[0m\u001b[0m\n",
      "\u001b[1;31mKeyboardInterrupt\u001b[0m: "
     ]
    }
   ],
   "source": [
    "t=nx.erdos_renyi_graph(nx.number_of_nodes(G_wg),p,directed=True)"
   ]
  },
  {
   "cell_type": "code",
   "execution_count": 196,
   "metadata": {},
   "outputs": [
    {
     "name": "stdout",
     "output_type": "stream",
     "text": [
      "8.20316562789 degrees_in_wg_mean\n",
      "2.0 degrees_in_wg_median\n",
      "ModeResult(mode=array([2]), count=array([69915])) degrees_in_wg_mod\n",
      "8.20316562789 degrees_out_wg_mean\n",
      "ModeResult(mode=array([2]), count=array([42916])) degrees_out_wg_mod\n"
     ]
    }
   ],
   "source": [
    "print np.mean(degrees_in_wg), \"degrees_in_wg_mean\"\n",
    "print np.median(degrees_in_wg), \"degrees_in_wg_median\"\n",
    "print stats.mode(degrees_in_wg), \"degrees_in_wg_mod\"\n",
    "print np.mean(degrees_out_wg), \"degrees_out_wg_mean\"\n",
    "print stats.mode(degrees_out_wg), \"degrees_out_wg_mod\""
   ]
  },
  {
   "cell_type": "code",
   "execution_count": 203,
   "metadata": {
    "collapsed": true
   },
   "outputs": [],
   "source": [
    "degrees_in_t=np.array((t.in_degree()).values())\n",
    "degrees_out_t=np.array((t.out_degree()).values())"
   ]
  },
  {
   "cell_type": "code",
   "execution_count": 200,
   "metadata": {},
   "outputs": [
    {
     "name": "stdout",
     "output_type": "stream",
     "text": [
      "0.061 degrees_in_t_mean\n",
      "0.0 degrees_in_t_median\n",
      "ModeResult(mode=array([0]), count=array([941])) degrees_in_t_mod\n",
      "0.061 degrees_out_t_mean\n",
      "ModeResult(mode=array([0]), count=array([941])) degrees_out_t_mod\n"
     ]
    }
   ],
   "source": [
    "print np.mean(degrees_in_t), \"degrees_in_t_mean\"\n",
    "print np.median(degrees_in_t), \"degrees_in_t_median\"\n",
    "print stats.mode(degrees_in_t), \"degrees_in_t_mod\"\n",
    "print np.mean(degrees_out_t), \"degrees_out_t_mean\"\n",
    "print stats.mode(degrees_out_t), \"degrees_out_t_mod\""
   ]
  },
  {
   "cell_type": "code",
   "execution_count": 205,
   "metadata": {},
   "outputs": [
    {
     "data": {
      "text/plain": [
       "array([ 0, 70,  1, ...,  1,  7,  5])"
      ]
     },
     "execution_count": 205,
     "metadata": {},
     "output_type": "execute_result"
    }
   ],
   "source": [
    "degrees_in_wg"
   ]
  },
  {
   "cell_type": "code",
   "execution_count": null,
   "metadata": {
    "collapsed": true
   },
   "outputs": [],
   "source": []
  }
 ],
 "metadata": {
  "kernelspec": {
   "display_name": "Python 2",
   "language": "python",
   "name": "python2"
  },
  "language_info": {
   "codemirror_mode": {
    "name": "ipython",
    "version": 2
   },
   "file_extension": ".py",
   "mimetype": "text/x-python",
   "name": "python",
   "nbconvert_exporter": "python",
   "pygments_lexer": "ipython2",
   "version": "2.7.13"
  }
 },
 "nbformat": 4,
 "nbformat_minor": 1
}
